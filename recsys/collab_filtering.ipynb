{
 "cells": [
  {
   "cell_type": "markdown",
   "id": "17d3d109-5315-4aea-8709-d0f29d3ab2d3",
   "metadata": {},
   "source": [
    "# Collaborative filtering at scale with Movie Lens 20M and RAPIDS"
   ]
  },
  {
   "cell_type": "code",
   "execution_count": 1,
   "id": "d98693c2-106b-444c-804a-02fa0026224e",
   "metadata": {},
   "outputs": [],
   "source": [
    "%matplotlib inline\n",
    "from tqdm.notebook import tqdm\n",
    "import matplotlib.pyplot as plt\n",
    "import cudf, cupy\n",
    "import pandas as pd\n",
    "import numpy as np\n",
    "import os, sys\n",
    "from scipy.spatial.distance import cosine\n",
    "import gc"
   ]
  },
  {
   "cell_type": "code",
   "execution_count": 2,
   "id": "608ed31c-7bc3-42e3-ac48-3a3c69f45bfb",
   "metadata": {},
   "outputs": [],
   "source": [
    "display_settings = {\n",
    "    'display.max_columns': 100,\n",
    "    'display.max_rows':100,\n",
    "    'display.expand_frame_repr': True,  # Wrap to multiple pages\n",
    "    'display.precision': 2,\n",
    "    'display.show_dimensions': True,\n",
    "    'display.float_format': '{:,.2f}'.format,\n",
    "    'io.hdf.default_format':'table' # appendable hp5 table\n",
    "}\n",
    "\n",
    "for op, value in display_settings.items():\n",
    "    pd.set_option(\"{}\".format(op), value)"
   ]
  },
  {
   "cell_type": "code",
   "execution_count": 3,
   "id": "b290d8aa-1285-4045-8692-cc893b825b42",
   "metadata": {},
   "outputs": [],
   "source": [
    "DATA_PATH = \"~/backup_folder/SASRec.pytorch/data/ml-20m\""
   ]
  },
  {
   "cell_type": "code",
   "execution_count": 4,
   "id": "7616b267-9786-4ee1-b9e2-f750ada639fd",
   "metadata": {},
   "outputs": [
    {
     "name": "stdout",
     "output_type": "stream",
     "text": [
      "Wed Feb 16 20:03:18 2022       \n",
      "+-----------------------------------------------------------------------------+\n",
      "| NVIDIA-SMI 465.31       Driver Version: 465.31       CUDA Version: 11.3     |\n",
      "|-------------------------------+----------------------+----------------------+\n",
      "| GPU  Name        Persistence-M| Bus-Id        Disp.A | Volatile Uncorr. ECC |\n",
      "| Fan  Temp  Perf  Pwr:Usage/Cap|         Memory-Usage | GPU-Util  Compute M. |\n",
      "|                               |                      |               MIG M. |\n",
      "|===============================+======================+======================|\n",
      "|   0  NVIDIA GeForce ...  Off  | 00000000:86:00.0 Off |                  N/A |\n",
      "| 35%   22C    P2    60W / 260W |    154MiB / 11019MiB |      0%      Default |\n",
      "|                               |                      |                  N/A |\n",
      "+-------------------------------+----------------------+----------------------+\n",
      "|   1  NVIDIA GeForce ...  Off  | 00000000:AF:00.0 Off |                  N/A |\n",
      "| 27%   20C    P8    19W / 250W |      3MiB /  7982MiB |      0%      Default |\n",
      "|                               |                      |                  N/A |\n",
      "+-------------------------------+----------------------+----------------------+\n",
      "                                                                               \n",
      "+-----------------------------------------------------------------------------+\n",
      "| Processes:                                                                  |\n",
      "|  GPU   GI   CI        PID   Type   Process name                  GPU Memory |\n",
      "|        ID   ID                                                   Usage      |\n",
      "|=============================================================================|\n",
      "+-----------------------------------------------------------------------------+\n"
     ]
    }
   ],
   "source": [
    "!nvidia-smi"
   ]
  },
  {
   "cell_type": "code",
   "execution_count": 5,
   "id": "4af0777b-63d6-4a76-a84f-b55dd5525d09",
   "metadata": {},
   "outputs": [],
   "source": [
    "# use specific device\n",
    "cupy.cuda.Device(0).use()"
   ]
  },
  {
   "cell_type": "code",
   "execution_count": 6,
   "id": "336561ce-b4a9-4396-b303-a8488a19c515",
   "metadata": {},
   "outputs": [],
   "source": [
    "#ratings = cudf.read_csv(os.path.join(DATA_PATH, 'ratings.csv'), dtype={\"userId\":np.int32, \"movieId\":np.int32, \"rating\":np.float32}, usecols=[\"userId\", \"movieId\",\"rating\"])\n",
    "ratings = pd.read_csv(os.path.join(DATA_PATH, 'ratings.csv'), dtype={\"userId\":np.int32, \"movieId\":np.int32, \"rating\":np.float32}, usecols=[\"userId\", \"movieId\",\"rating\"])"
   ]
  },
  {
   "cell_type": "code",
   "execution_count": 7,
   "id": "52c213d4-53bb-4601-8b51-bab154cbd77a",
   "metadata": {},
   "outputs": [
    {
     "data": {
      "text/html": [
       "<div>\n",
       "<style scoped>\n",
       "    .dataframe tbody tr th:only-of-type {\n",
       "        vertical-align: middle;\n",
       "    }\n",
       "\n",
       "    .dataframe tbody tr th {\n",
       "        vertical-align: top;\n",
       "    }\n",
       "\n",
       "    .dataframe thead th {\n",
       "        text-align: right;\n",
       "    }\n",
       "</style>\n",
       "<table border=\"1\" class=\"dataframe\">\n",
       "  <thead>\n",
       "    <tr style=\"text-align: right;\">\n",
       "      <th></th>\n",
       "      <th>userId</th>\n",
       "      <th>movieId</th>\n",
       "      <th>rating</th>\n",
       "    </tr>\n",
       "  </thead>\n",
       "  <tbody>\n",
       "    <tr>\n",
       "      <th>0</th>\n",
       "      <td>1</td>\n",
       "      <td>2</td>\n",
       "      <td>3.50</td>\n",
       "    </tr>\n",
       "    <tr>\n",
       "      <th>1</th>\n",
       "      <td>1</td>\n",
       "      <td>29</td>\n",
       "      <td>3.50</td>\n",
       "    </tr>\n",
       "    <tr>\n",
       "      <th>2</th>\n",
       "      <td>1</td>\n",
       "      <td>32</td>\n",
       "      <td>3.50</td>\n",
       "    </tr>\n",
       "    <tr>\n",
       "      <th>3</th>\n",
       "      <td>1</td>\n",
       "      <td>47</td>\n",
       "      <td>3.50</td>\n",
       "    </tr>\n",
       "    <tr>\n",
       "      <th>4</th>\n",
       "      <td>1</td>\n",
       "      <td>50</td>\n",
       "      <td>3.50</td>\n",
       "    </tr>\n",
       "  </tbody>\n",
       "</table>\n",
       "<p>5 rows × 3 columns</p>\n",
       "</div>"
      ],
      "text/plain": [
       "   userId  movieId  rating\n",
       "0       1        2    3.50\n",
       "1       1       29    3.50\n",
       "2       1       32    3.50\n",
       "3       1       47    3.50\n",
       "4       1       50    3.50\n",
       "\n",
       "[5 rows x 3 columns]"
      ]
     },
     "execution_count": 7,
     "metadata": {},
     "output_type": "execute_result"
    }
   ],
   "source": [
    "ratings.head()"
   ]
  },
  {
   "cell_type": "code",
   "execution_count": 8,
   "id": "a1380c6f-12c6-4643-8fa6-03700ecaf06b",
   "metadata": {},
   "outputs": [
    {
     "data": {
      "text/html": [
       "<div>\n",
       "<style scoped>\n",
       "    .dataframe tbody tr th:only-of-type {\n",
       "        vertical-align: middle;\n",
       "    }\n",
       "\n",
       "    .dataframe tbody tr th {\n",
       "        vertical-align: top;\n",
       "    }\n",
       "\n",
       "    .dataframe thead th {\n",
       "        text-align: right;\n",
       "    }\n",
       "</style>\n",
       "<table border=\"1\" class=\"dataframe\">\n",
       "  <thead>\n",
       "    <tr style=\"text-align: right;\">\n",
       "      <th></th>\n",
       "      <th>userId</th>\n",
       "      <th>movieId</th>\n",
       "      <th>rating</th>\n",
       "    </tr>\n",
       "  </thead>\n",
       "  <tbody>\n",
       "    <tr>\n",
       "      <th>count</th>\n",
       "      <td>20,000,263.00</td>\n",
       "      <td>20,000,263.00</td>\n",
       "      <td>20,000,263.00</td>\n",
       "    </tr>\n",
       "    <tr>\n",
       "      <th>mean</th>\n",
       "      <td>69,045.87</td>\n",
       "      <td>9,041.57</td>\n",
       "      <td>3.53</td>\n",
       "    </tr>\n",
       "    <tr>\n",
       "      <th>std</th>\n",
       "      <td>40,038.63</td>\n",
       "      <td>19,789.48</td>\n",
       "      <td>1.05</td>\n",
       "    </tr>\n",
       "    <tr>\n",
       "      <th>min</th>\n",
       "      <td>1.00</td>\n",
       "      <td>1.00</td>\n",
       "      <td>0.50</td>\n",
       "    </tr>\n",
       "    <tr>\n",
       "      <th>25%</th>\n",
       "      <td>34,395.00</td>\n",
       "      <td>902.00</td>\n",
       "      <td>3.00</td>\n",
       "    </tr>\n",
       "    <tr>\n",
       "      <th>50%</th>\n",
       "      <td>69,141.00</td>\n",
       "      <td>2,167.00</td>\n",
       "      <td>3.50</td>\n",
       "    </tr>\n",
       "    <tr>\n",
       "      <th>75%</th>\n",
       "      <td>103,637.00</td>\n",
       "      <td>4,770.00</td>\n",
       "      <td>4.00</td>\n",
       "    </tr>\n",
       "    <tr>\n",
       "      <th>max</th>\n",
       "      <td>138,493.00</td>\n",
       "      <td>131,262.00</td>\n",
       "      <td>5.00</td>\n",
       "    </tr>\n",
       "  </tbody>\n",
       "</table>\n",
       "<p>8 rows × 3 columns</p>\n",
       "</div>"
      ],
      "text/plain": [
       "             userId       movieId        rating\n",
       "count 20,000,263.00 20,000,263.00 20,000,263.00\n",
       "mean      69,045.87      9,041.57          3.53\n",
       "std       40,038.63     19,789.48          1.05\n",
       "min            1.00          1.00          0.50\n",
       "25%       34,395.00        902.00          3.00\n",
       "50%       69,141.00      2,167.00          3.50\n",
       "75%      103,637.00      4,770.00          4.00\n",
       "max      138,493.00    131,262.00          5.00\n",
       "\n",
       "[8 rows x 3 columns]"
      ]
     },
     "execution_count": 8,
     "metadata": {},
     "output_type": "execute_result"
    }
   ],
   "source": [
    "ratings.describe()"
   ]
  },
  {
   "cell_type": "code",
   "execution_count": 9,
   "id": "b1c5688b-fe03-47c8-a3b0-27657edc6c36",
   "metadata": {},
   "outputs": [
    {
     "name": "stdout",
     "output_type": "stream",
     "text": [
      "4,294,967,295\n"
     ]
    }
   ],
   "source": [
    "print(f\"{np.iinfo(np.uint32).max:,}\")"
   ]
  },
  {
   "cell_type": "code",
   "execution_count": 10,
   "id": "117ea727-2847-465f-a7d8-aaf2a377f8cd",
   "metadata": {},
   "outputs": [
    {
     "name": "stdout",
     "output_type": "stream",
     "text": [
      "<class 'pandas.core.frame.DataFrame'>\n",
      "RangeIndex: 20000263 entries, 0 to 20000262\n",
      "Data columns (total 3 columns):\n",
      " #   Column   Dtype  \n",
      "---  ------   -----  \n",
      " 0   userId   int32  \n",
      " 1   movieId  int32  \n",
      " 2   rating   float32\n",
      "dtypes: float32(1), int32(2)\n",
      "memory usage: 228.9 MB\n"
     ]
    }
   ],
   "source": [
    "ratings.info()"
   ]
  },
  {
   "cell_type": "code",
   "execution_count": 11,
   "id": "1fba5599-9346-498c-b24c-d62fa80bf02c",
   "metadata": {},
   "outputs": [
    {
     "data": {
      "text/plain": [
       "(20000263,)"
      ]
     },
     "execution_count": 11,
     "metadata": {},
     "output_type": "execute_result"
    }
   ],
   "source": [
    "ratings.userId.values.shape"
   ]
  },
  {
   "cell_type": "markdown",
   "id": "94914c33-9c6e-42b9-a1ba-a20cd18af40a",
   "metadata": {},
   "source": [
    "## center data"
   ]
  },
  {
   "cell_type": "code",
   "execution_count": 12,
   "id": "d195df73-8ad7-447c-8010-a99a0eb6086b",
   "metadata": {},
   "outputs": [],
   "source": [
    "mean_ratings = ratings.groupby(by='userId')['rating'].mean()\n",
    "mean_ratings.sort_index(inplace=True)\n",
    "num_ratings = ratings.groupby(by='userId')['rating'].count()\n",
    "num_ratings.sort_index(inplace=True)"
   ]
  },
  {
   "cell_type": "code",
   "execution_count": 13,
   "id": "8708d3b6-86b7-434e-ac69-b323de4f747a",
   "metadata": {},
   "outputs": [
    {
     "data": {
      "image/png": "[encoded data removed]",
      "text/plain": [
       "<Figure size 1080x720 with 2 Axes>"
      ]
     },
     "metadata": {
      "needs_background": "light"
     },
     "output_type": "display_data"
    }
   ],
   "source": [
    "fig = plt.figure(figsize=(15,10))\n",
    "plt.subplot(2,2,1)\n",
    "plt.title('Distribution of average ratings')\n",
    "plt.hist(mean_ratings, bins=20);\n",
    "plt.subplot(2,2,2)\n",
    "plt.title('Distribution of number of ratings per user')\n",
    "plt.hist(num_ratings[num_ratings<=200], bins=30);"
   ]
  },
  {
   "cell_type": "code",
   "execution_count": 14,
   "id": "0fbe2dd3-3fd8-4cdd-a3b7-9357e97c43f3",
   "metadata": {},
   "outputs": [],
   "source": [
    "# def kernel(userId, rating, centered, kwarg1):\n",
    "#     for i, (userid, rating) in enumerate(zip(userId,rating)):\n",
    "#         centered[i] = rating - kwarg1[userid-1]\n",
    "\n",
    "# ratings.apply_rows(kernel,\n",
    "#                    incols=['userId', 'rating'],\n",
    "#                    outcols=dict(centered=np.float32),\n",
    "#                    kwargs=dict(kwarg1=mean_ratings.values))"
   ]
  },
  {
   "cell_type": "code",
   "execution_count": 12,
   "id": "6a124943-41c2-42bc-8dec-684d2e4c7bc2",
   "metadata": {},
   "outputs": [],
   "source": [
    "ratings['mean_rating'] = ratings.groupby(by='userId')['rating'].transform(np.mean)\n",
    "ratings['crating'] = ratings['rating'] - ratings['mean_rating']"
   ]
  },
  {
   "cell_type": "markdown",
   "id": "ac81399f-afd5-4a00-824e-9b04db6f40eb",
   "metadata": {},
   "source": [
    "## Reorder movies \n",
    "starting from 0 with no gaps"
   ]
  },
  {
   "cell_type": "code",
   "execution_count": 13,
   "id": "5e1f5a00-4423-4926-8af2-9f3b56199e70",
   "metadata": {},
   "outputs": [],
   "source": [
    "mv_mapper = {movieId:i for i,movieId in enumerate(ratings.movieId.value_counts().index.values)}\n",
    "mv_reverse_mapper = {new_id:old_id for old_id,new_id in mv_mapper.items()}"
   ]
  },
  {
   "cell_type": "code",
   "execution_count": 14,
   "id": "e8decda1-4870-48aa-9fda-4a23f44b053d",
   "metadata": {},
   "outputs": [],
   "source": [
    "movies = pd.read_csv(os.path.join(DATA_PATH,'movies.csv'))"
   ]
  },
  {
   "cell_type": "code",
   "execution_count": 15,
   "id": "74a57750-8037-46c0-887e-712c7a86e90e",
   "metadata": {},
   "outputs": [
    {
     "data": {
      "text/html": [
       "<div>\n",
       "<style scoped>\n",
       "    .dataframe tbody tr th:only-of-type {\n",
       "        vertical-align: middle;\n",
       "    }\n",
       "\n",
       "    .dataframe tbody tr th {\n",
       "        vertical-align: top;\n",
       "    }\n",
       "\n",
       "    .dataframe thead th {\n",
       "        text-align: right;\n",
       "    }\n",
       "</style>\n",
       "<table border=\"1\" class=\"dataframe\">\n",
       "  <thead>\n",
       "    <tr style=\"text-align: right;\">\n",
       "      <th></th>\n",
       "      <th>movieId</th>\n",
       "      <th>title</th>\n",
       "      <th>genres</th>\n",
       "    </tr>\n",
       "  </thead>\n",
       "  <tbody>\n",
       "    <tr>\n",
       "      <th>108</th>\n",
       "      <td>110</td>\n",
       "      <td>Braveheart (1995)</td>\n",
       "      <td>Action|Drama|War</td>\n",
       "    </tr>\n",
       "    <tr>\n",
       "      <th>257</th>\n",
       "      <td>260</td>\n",
       "      <td>Star Wars: Episode IV - A New Hope (1977)</td>\n",
       "      <td>Action|Adventure|Sci-Fi</td>\n",
       "    </tr>\n",
       "    <tr>\n",
       "      <th>293</th>\n",
       "      <td>296</td>\n",
       "      <td>Pulp Fiction (1994)</td>\n",
       "      <td>Comedy|Crime|Drama|Thriller</td>\n",
       "    </tr>\n",
       "    <tr>\n",
       "      <th>315</th>\n",
       "      <td>318</td>\n",
       "      <td>Shawshank Redemption, The (1994)</td>\n",
       "      <td>Crime|Drama</td>\n",
       "    </tr>\n",
       "    <tr>\n",
       "      <th>352</th>\n",
       "      <td>356</td>\n",
       "      <td>Forrest Gump (1994)</td>\n",
       "      <td>Comedy|Drama|Romance|War</td>\n",
       "    </tr>\n",
       "    <tr>\n",
       "      <th>476</th>\n",
       "      <td>480</td>\n",
       "      <td>Jurassic Park (1993)</td>\n",
       "      <td>Action|Adventure|Sci-Fi|Thriller</td>\n",
       "    </tr>\n",
       "    <tr>\n",
       "      <th>523</th>\n",
       "      <td>527</td>\n",
       "      <td>Schindler's List (1993)</td>\n",
       "      <td>Drama|War</td>\n",
       "    </tr>\n",
       "    <tr>\n",
       "      <th>583</th>\n",
       "      <td>589</td>\n",
       "      <td>Terminator 2: Judgment Day (1991)</td>\n",
       "      <td>Action|Sci-Fi</td>\n",
       "    </tr>\n",
       "    <tr>\n",
       "      <th>587</th>\n",
       "      <td>593</td>\n",
       "      <td>Silence of the Lambs, The (1991)</td>\n",
       "      <td>Crime|Horror|Thriller</td>\n",
       "    </tr>\n",
       "    <tr>\n",
       "      <th>2486</th>\n",
       "      <td>2571</td>\n",
       "      <td>Matrix, The (1999)</td>\n",
       "      <td>Action|Sci-Fi|Thriller</td>\n",
       "    </tr>\n",
       "  </tbody>\n",
       "</table>\n",
       "<p>10 rows × 3 columns</p>\n",
       "</div>"
      ],
      "text/plain": [
       "      movieId                                      title  \\\n",
       "108       110                          Braveheart (1995)   \n",
       "257       260  Star Wars: Episode IV - A New Hope (1977)   \n",
       "293       296                        Pulp Fiction (1994)   \n",
       "315       318           Shawshank Redemption, The (1994)   \n",
       "352       356                        Forrest Gump (1994)   \n",
       "476       480                       Jurassic Park (1993)   \n",
       "523       527                    Schindler's List (1993)   \n",
       "583       589          Terminator 2: Judgment Day (1991)   \n",
       "587       593           Silence of the Lambs, The (1991)   \n",
       "2486     2571                         Matrix, The (1999)   \n",
       "\n",
       "                                genres  \n",
       "108                   Action|Drama|War  \n",
       "257            Action|Adventure|Sci-Fi  \n",
       "293        Comedy|Crime|Drama|Thriller  \n",
       "315                        Crime|Drama  \n",
       "352           Comedy|Drama|Romance|War  \n",
       "476   Action|Adventure|Sci-Fi|Thriller  \n",
       "523                          Drama|War  \n",
       "583                      Action|Sci-Fi  \n",
       "587              Crime|Horror|Thriller  \n",
       "2486            Action|Sci-Fi|Thriller  \n",
       "\n",
       "[10 rows x 3 columns]"
      ]
     },
     "execution_count": 15,
     "metadata": {},
     "output_type": "execute_result"
    }
   ],
   "source": [
    "# top 10 movies not in order of reviews\n",
    "movies[movies['movieId'].isin([mv_reverse_mapper[i] for i in range(10)])]"
   ]
  },
  {
   "cell_type": "code",
   "execution_count": 16,
   "id": "78f9f4ab-7ccb-4bf5-871d-d53c6ce3b735",
   "metadata": {},
   "outputs": [
    {
     "data": {
      "text/html": [
       "<div>\n",
       "<style scoped>\n",
       "    .dataframe tbody tr th:only-of-type {\n",
       "        vertical-align: middle;\n",
       "    }\n",
       "\n",
       "    .dataframe tbody tr th {\n",
       "        vertical-align: top;\n",
       "    }\n",
       "\n",
       "    .dataframe thead th {\n",
       "        text-align: right;\n",
       "    }\n",
       "</style>\n",
       "<table border=\"1\" class=\"dataframe\">\n",
       "  <thead>\n",
       "    <tr style=\"text-align: right;\">\n",
       "      <th></th>\n",
       "      <th>userId</th>\n",
       "      <th>movieId</th>\n",
       "      <th>rating</th>\n",
       "      <th>mean_rating</th>\n",
       "      <th>crating</th>\n",
       "      <th>NmovieId</th>\n",
       "    </tr>\n",
       "  </thead>\n",
       "  <tbody>\n",
       "    <tr>\n",
       "      <th>0</th>\n",
       "      <td>0</td>\n",
       "      <td>2</td>\n",
       "      <td>3.50</td>\n",
       "      <td>3.74</td>\n",
       "      <td>-0.24</td>\n",
       "      <td>125</td>\n",
       "    </tr>\n",
       "    <tr>\n",
       "      <th>1</th>\n",
       "      <td>0</td>\n",
       "      <td>29</td>\n",
       "      <td>3.50</td>\n",
       "      <td>3.74</td>\n",
       "      <td>-0.24</td>\n",
       "      <td>564</td>\n",
       "    </tr>\n",
       "    <tr>\n",
       "      <th>2</th>\n",
       "      <td>0</td>\n",
       "      <td>32</td>\n",
       "      <td>3.50</td>\n",
       "      <td>3.74</td>\n",
       "      <td>-0.24</td>\n",
       "      <td>19</td>\n",
       "    </tr>\n",
       "    <tr>\n",
       "      <th>3</th>\n",
       "      <td>0</td>\n",
       "      <td>47</td>\n",
       "      <td>3.50</td>\n",
       "      <td>3.74</td>\n",
       "      <td>-0.24</td>\n",
       "      <td>23</td>\n",
       "    </tr>\n",
       "    <tr>\n",
       "      <th>4</th>\n",
       "      <td>0</td>\n",
       "      <td>50</td>\n",
       "      <td>3.50</td>\n",
       "      <td>3.74</td>\n",
       "      <td>-0.24</td>\n",
       "      <td>14</td>\n",
       "    </tr>\n",
       "    <tr>\n",
       "      <th>5</th>\n",
       "      <td>0</td>\n",
       "      <td>112</td>\n",
       "      <td>3.50</td>\n",
       "      <td>3.74</td>\n",
       "      <td>-0.24</td>\n",
       "      <td>370</td>\n",
       "    </tr>\n",
       "    <tr>\n",
       "      <th>6</th>\n",
       "      <td>0</td>\n",
       "      <td>151</td>\n",
       "      <td>4.00</td>\n",
       "      <td>3.74</td>\n",
       "      <td>0.26</td>\n",
       "      <td>335</td>\n",
       "    </tr>\n",
       "    <tr>\n",
       "      <th>7</th>\n",
       "      <td>0</td>\n",
       "      <td>223</td>\n",
       "      <td>4.00</td>\n",
       "      <td>3.74</td>\n",
       "      <td>0.26</td>\n",
       "      <td>106</td>\n",
       "    </tr>\n",
       "    <tr>\n",
       "      <th>8</th>\n",
       "      <td>0</td>\n",
       "      <td>253</td>\n",
       "      <td>4.00</td>\n",
       "      <td>3.74</td>\n",
       "      <td>0.26</td>\n",
       "      <td>77</td>\n",
       "    </tr>\n",
       "    <tr>\n",
       "      <th>9</th>\n",
       "      <td>0</td>\n",
       "      <td>260</td>\n",
       "      <td>4.00</td>\n",
       "      <td>3.74</td>\n",
       "      <td>0.26</td>\n",
       "      <td>5</td>\n",
       "    </tr>\n",
       "    <tr>\n",
       "      <th>10</th>\n",
       "      <td>0</td>\n",
       "      <td>293</td>\n",
       "      <td>4.00</td>\n",
       "      <td>3.74</td>\n",
       "      <td>0.26</td>\n",
       "      <td>87</td>\n",
       "    </tr>\n",
       "    <tr>\n",
       "      <th>11</th>\n",
       "      <td>0</td>\n",
       "      <td>296</td>\n",
       "      <td>4.00</td>\n",
       "      <td>3.74</td>\n",
       "      <td>0.26</td>\n",
       "      <td>0</td>\n",
       "    </tr>\n",
       "    <tr>\n",
       "      <th>12</th>\n",
       "      <td>0</td>\n",
       "      <td>318</td>\n",
       "      <td>4.00</td>\n",
       "      <td>3.74</td>\n",
       "      <td>0.26</td>\n",
       "      <td>2</td>\n",
       "    </tr>\n",
       "    <tr>\n",
       "      <th>13</th>\n",
       "      <td>0</td>\n",
       "      <td>337</td>\n",
       "      <td>3.50</td>\n",
       "      <td>3.74</td>\n",
       "      <td>-0.24</td>\n",
       "      <td>190</td>\n",
       "    </tr>\n",
       "    <tr>\n",
       "      <th>14</th>\n",
       "      <td>0</td>\n",
       "      <td>367</td>\n",
       "      <td>3.50</td>\n",
       "      <td>3.74</td>\n",
       "      <td>-0.24</td>\n",
       "      <td>39</td>\n",
       "    </tr>\n",
       "    <tr>\n",
       "      <th>15</th>\n",
       "      <td>0</td>\n",
       "      <td>541</td>\n",
       "      <td>4.00</td>\n",
       "      <td>3.74</td>\n",
       "      <td>0.26</td>\n",
       "      <td>60</td>\n",
       "    </tr>\n",
       "    <tr>\n",
       "      <th>16</th>\n",
       "      <td>0</td>\n",
       "      <td>589</td>\n",
       "      <td>3.50</td>\n",
       "      <td>3.74</td>\n",
       "      <td>-0.24</td>\n",
       "      <td>7</td>\n",
       "    </tr>\n",
       "    <tr>\n",
       "      <th>17</th>\n",
       "      <td>0</td>\n",
       "      <td>593</td>\n",
       "      <td>3.50</td>\n",
       "      <td>3.74</td>\n",
       "      <td>-0.24</td>\n",
       "      <td>3</td>\n",
       "    </tr>\n",
       "    <tr>\n",
       "      <th>18</th>\n",
       "      <td>0</td>\n",
       "      <td>653</td>\n",
       "      <td>3.00</td>\n",
       "      <td>3.74</td>\n",
       "      <td>-0.74</td>\n",
       "      <td>277</td>\n",
       "    </tr>\n",
       "    <tr>\n",
       "      <th>19</th>\n",
       "      <td>0</td>\n",
       "      <td>919</td>\n",
       "      <td>3.50</td>\n",
       "      <td>3.74</td>\n",
       "      <td>-0.24</td>\n",
       "      <td>113</td>\n",
       "    </tr>\n",
       "  </tbody>\n",
       "</table>\n",
       "<p>20 rows × 6 columns</p>\n",
       "</div>"
      ],
      "text/plain": [
       "    userId  movieId  rating  mean_rating  crating  NmovieId\n",
       "0        0        2    3.50         3.74    -0.24       125\n",
       "1        0       29    3.50         3.74    -0.24       564\n",
       "2        0       32    3.50         3.74    -0.24        19\n",
       "3        0       47    3.50         3.74    -0.24        23\n",
       "4        0       50    3.50         3.74    -0.24        14\n",
       "5        0      112    3.50         3.74    -0.24       370\n",
       "6        0      151    4.00         3.74     0.26       335\n",
       "7        0      223    4.00         3.74     0.26       106\n",
       "8        0      253    4.00         3.74     0.26        77\n",
       "9        0      260    4.00         3.74     0.26         5\n",
       "10       0      293    4.00         3.74     0.26        87\n",
       "11       0      296    4.00         3.74     0.26         0\n",
       "12       0      318    4.00         3.74     0.26         2\n",
       "13       0      337    3.50         3.74    -0.24       190\n",
       "14       0      367    3.50         3.74    -0.24        39\n",
       "15       0      541    4.00         3.74     0.26        60\n",
       "16       0      589    3.50         3.74    -0.24         7\n",
       "17       0      593    3.50         3.74    -0.24         3\n",
       "18       0      653    3.00         3.74    -0.74       277\n",
       "19       0      919    3.50         3.74    -0.24       113\n",
       "\n",
       "[20 rows x 6 columns]"
      ]
     },
     "execution_count": 16,
     "metadata": {},
     "output_type": "execute_result"
    }
   ],
   "source": [
    "ratings['NmovieId'] = ratings['movieId'].map(mv_mapper)\n",
    "ratings['userId'] = ratings['userId'] - 1\n",
    "ratings['userId'] = ratings['userId'].astype(np.uint32)\n",
    "ratings['NmovieId'] = ratings['NmovieId'].astype(np.uint32)\n",
    "ratings.head(20)"
   ]
  },
  {
   "cell_type": "markdown",
   "id": "8521bd9f-f63d-499c-8ef6-cb6348b31035",
   "metadata": {},
   "source": [
    "## Calculate a metric how many moveis two given users have in common \n",
    "we will need this for the short list of users to calculate distance"
   ]
  },
  {
   "cell_type": "markdown",
   "id": "2b92a33f-cb83-4dc9-8043-17034c50b494",
   "metadata": {},
   "source": [
    "#### Define the number of chunks to divide the USER-USER matrix  \n",
    "this is needed cos U-U matrix is too big - won't fit into memory of a GPU"
   ]
  },
  {
   "cell_type": "code",
   "execution_count": 65,
   "id": "46038ca2-abef-49ef-90a7-43b04485477a",
   "metadata": {},
   "outputs": [],
   "source": [
    "from scipy.sparse import csr_matrix, find\n",
    "from sklearn.utils import shuffle"
   ]
  },
  {
   "cell_type": "code",
   "execution_count": null,
   "id": "86967b5c-565f-4d9d-a063-c95f3f84b889",
   "metadata": {},
   "outputs": [],
   "source": [
    "USER_NUM = ratings.userId.max()+1\n",
    "MOVIE_NUM = len(mv_mapper)"
   ]
  },
  {
   "cell_type": "code",
   "execution_count": 18,
   "id": "2f3d6c25-f933-42b0-a08f-e74f3439b1b2",
   "metadata": {},
   "outputs": [
    {
     "name": "stdout",
     "output_type": "stream",
     "text": [
      "We make 4 splits \n",
      "and add 3 extra users to make \n",
      "one chunk of size 34_624 users\n",
      "And in total there will be 4 by 4 = 16 matrices each of size 4.5 Gb\n"
     ]
    }
   ],
   "source": [
    "# calculate how we will split the matrix to fit it into GPU memory\n",
    "# in Gb\n",
    "MEMORY_LIMIT = 11\n",
    "for N in range(2,10):\n",
    "    if USER_NUM/N < 40_000:\n",
    "        # we have found the N-split\n",
    "        extra_users = N - USER_NUM%N\n",
    "        chunk = (USER_NUM+extra_users)//N\n",
    "        break\n",
    "print(f\"We make {N} splits \\nand add {extra_users} extra users to make \\none chunk of size {chunk:_} users\")\n",
    "print(f\"And in total there will be {N} by {N} = {N**2} matrices each of size {(chunk**2)*(4)/1024/1024/1024:,.2} Gb\")"
   ]
  },
  {
   "cell_type": "code",
   "execution_count": 19,
   "id": "1bed57ae-c2d2-4cee-abf7-8cbd61488e84",
   "metadata": {},
   "outputs": [
    {
     "data": {
      "text/html": [
       "<div>\n",
       "<style scoped>\n",
       "    .dataframe tbody tr th:only-of-type {\n",
       "        vertical-align: middle;\n",
       "    }\n",
       "\n",
       "    .dataframe tbody tr th {\n",
       "        vertical-align: top;\n",
       "    }\n",
       "\n",
       "    .dataframe thead th {\n",
       "        text-align: right;\n",
       "    }\n",
       "</style>\n",
       "<table border=\"1\" class=\"dataframe\">\n",
       "  <thead>\n",
       "    <tr style=\"text-align: right;\">\n",
       "      <th></th>\n",
       "      <th>userId</th>\n",
       "      <th>movieId</th>\n",
       "      <th>rating</th>\n",
       "      <th>mean_rating</th>\n",
       "      <th>crating</th>\n",
       "      <th>NmovieId</th>\n",
       "    </tr>\n",
       "  </thead>\n",
       "  <tbody>\n",
       "    <tr>\n",
       "      <th>20000261</th>\n",
       "      <td>138492</td>\n",
       "      <td>70286</td>\n",
       "      <td>5.00</td>\n",
       "      <td>4.17</td>\n",
       "      <td>0.83</td>\n",
       "      <td>611</td>\n",
       "    </tr>\n",
       "    <tr>\n",
       "      <th>20000262</th>\n",
       "      <td>138492</td>\n",
       "      <td>71619</td>\n",
       "      <td>2.50</td>\n",
       "      <td>4.17</td>\n",
       "      <td>-1.67</td>\n",
       "      <td>6331</td>\n",
       "    </tr>\n",
       "    <tr>\n",
       "      <th>20000263</th>\n",
       "      <td>138493</td>\n",
       "      <td>1259</td>\n",
       "      <td>4.00</td>\n",
       "      <td>3.50</td>\n",
       "      <td>0.50</td>\n",
       "      <td>145</td>\n",
       "    </tr>\n",
       "    <tr>\n",
       "      <th>20000264</th>\n",
       "      <td>138494</td>\n",
       "      <td>5065</td>\n",
       "      <td>2.00</td>\n",
       "      <td>3.92</td>\n",
       "      <td>-1.92</td>\n",
       "      <td>1695</td>\n",
       "    </tr>\n",
       "    <tr>\n",
       "      <th>20000265</th>\n",
       "      <td>138495</td>\n",
       "      <td>4890</td>\n",
       "      <td>2.50</td>\n",
       "      <td>3.53</td>\n",
       "      <td>-1.03</td>\n",
       "      <td>1067</td>\n",
       "    </tr>\n",
       "  </tbody>\n",
       "</table>\n",
       "<p>5 rows × 6 columns</p>\n",
       "</div>"
      ],
      "text/plain": [
       "          userId  movieId  rating  mean_rating  crating  NmovieId\n",
       "20000261  138492    70286    5.00         4.17     0.83       611\n",
       "20000262  138492    71619    2.50         4.17    -1.67      6331\n",
       "20000263  138493     1259    4.00         3.50     0.50       145\n",
       "20000264  138494     5065    2.00         3.92    -1.92      1695\n",
       "20000265  138495     4890    2.50         3.53    -1.03      1067\n",
       "\n",
       "[5 rows x 6 columns]"
      ]
     },
     "execution_count": 19,
     "metadata": {},
     "output_type": "execute_result"
    }
   ],
   "source": [
    "# by the end of this block we have some extra users that makes our user by user matrix divisible by N and we can split User to User matrix in chunks \n",
    "# and multiply each one by each one on GPU and then assemble the whole in memory\n",
    "\n",
    "from copy import deepcopy\n",
    "add_on_users = deepcopy(ratings.sample(extra_users))\n",
    "add_on_users.reset_index(drop = True, inplace=True)\n",
    "add_on_users['index'] = 77\n",
    "for u in range(0, extra_users):\n",
    "    add_on_users.loc[u, 'userId'] = USER_NUM + u\n",
    "    add_on_users.loc[u, 'index'] = ratings.index.max() + u + 1\n",
    "add_on_users = add_on_users.set_index('index')\n",
    "ratings = ratings.append(add_on_users)\n",
    "USER_NUM = ratings.userId.max()+1\n",
    "ratings.tail()"
   ]
  },
  {
   "cell_type": "markdown",
   "id": "15228ac8-7f4e-49bd-86b4-47d56ec9068e",
   "metadata": {},
   "source": [
    "#### Train/Test split  \n",
    "with respect to first chunk of data"
   ]
  },
  {
   "cell_type": "code",
   "execution_count": 20,
   "id": "3a87cf7b-7e1b-43d7-a2b0-4366e4a94ed3",
   "metadata": {},
   "outputs": [
    {
     "name": "stdout",
     "output_type": "stream",
     "text": [
      "CPU times: user 758 ms, sys: 609 ms, total: 1.37 s\n",
      "Wall time: 1.31 s\n"
     ]
    }
   ],
   "source": [
    "%%time\n",
    "# this makes a copy of ratings dataframe and chuffles the data\n",
    "chunk_one_ratings = shuffle(ratings[ratings['userId']<chunk])"
   ]
  },
  {
   "cell_type": "code",
   "execution_count": 21,
   "id": "fc40a79d-3bbb-4b56-8b6f-5bc6fbbf60ba",
   "metadata": {},
   "outputs": [],
   "source": [
    "TEST_SIZE = 0.2\n",
    "TT_SPLIT = int(len(chunk_one_ratings)*(1-TEST_SIZE))"
   ]
  },
  {
   "cell_type": "code",
   "execution_count": 22,
   "id": "5bde45bf-87df-4b2a-a970-8ea211d787cb",
   "metadata": {},
   "outputs": [
    {
     "name": "stdout",
     "output_type": "stream",
     "text": [
      "CPU times: user 177 µs, sys: 107 µs, total: 284 µs\n",
      "Wall time: 292 µs\n"
     ]
    }
   ],
   "source": [
    "%%time\n",
    "# this makes two views(?) on chuchunk_one_ratings\n",
    "train_ratings = chunk_one_ratings[:TT_SPLIT]\n",
    "test_ratings = chunk_one_ratings[TT_SPLIT:]"
   ]
  },
  {
   "cell_type": "code",
   "execution_count": 23,
   "id": "f6716408-c6b0-4d0b-a123-e90e044ce1d1",
   "metadata": {},
   "outputs": [
    {
     "data": {
      "text/plain": [
       "13"
      ]
     },
     "execution_count": 23,
     "metadata": {},
     "output_type": "execute_result"
    }
   ],
   "source": [
    "# this frees some memory\n",
    "del chunk_one_ratings\n",
    "gc.collect()"
   ]
  },
  {
   "cell_type": "markdown",
   "id": "beb9f5b1-6b1b-47fd-94ca-6faf6e12cab8",
   "metadata": {},
   "source": [
    "#### Making sparse matrices  \n",
    " - scr_binary_ratings - to hold info on what users rated\n",
    " - csr_ratings - actual ratings"
   ]
  },
  {
   "cell_type": "code",
   "execution_count": 25,
   "id": "433a43c7-93b4-4665-b00d-d832f9fbba41",
   "metadata": {},
   "outputs": [],
   "source": [
    "# creating sparse matrix with information on what movies users have rated\n",
    "# this is a matrix of movies that each user have rated - it all contains only ones \n",
    "csr_binary_ratings = csr_matrix((np.ones_like(train_ratings['crating'].values, dtype=np.float32), \n",
    "                           (train_ratings['userId'].values, train_ratings['NmovieId'].values)))"
   ]
  },
  {
   "cell_type": "code",
   "execution_count": 26,
   "id": "33e4b1d2-0ce4-4aa0-97b6-dd751320f79d",
   "metadata": {},
   "outputs": [],
   "source": [
    "# this is a sparse matrix with actual ratings\n",
    "csr_ratings = csr_matrix((train_ratings['crating'].values, (train_ratings['userId'].values, train_ratings['NmovieId'].values)))"
   ]
  },
  {
   "cell_type": "code",
   "execution_count": 27,
   "id": "a4cb07a4-39fe-48db-85ee-18dce9f255a9",
   "metadata": {},
   "outputs": [
    {
     "data": {
      "text/plain": [
       "<34624x26739 sparse matrix of type '<class 'numpy.float32'>'\n",
       "\twith 4036235 stored elements in Compressed Sparse Row format>"
      ]
     },
     "execution_count": 27,
     "metadata": {},
     "output_type": "execute_result"
    }
   ],
   "source": [
    "csr_ratings"
   ]
  },
  {
   "cell_type": "markdown",
   "id": "cfe792d8-104f-44ca-99d1-57f8d5706394",
   "metadata": {},
   "source": [
    "## GPU acceleration\n",
    "in task of computing the number of common movies for all users"
   ]
  },
  {
   "cell_type": "code",
   "execution_count": 28,
   "id": "15fce087-95fc-4041-9335-c1bff3106d55",
   "metadata": {
    "tags": []
   },
   "outputs": [],
   "source": [
    "import cupyx.scipy.sparse as cuda_sparse\n",
    "watched_movies_cuda = cuda_sparse.csr_matrix(csr_binary_ratings)"
   ]
  },
  {
   "cell_type": "code",
   "execution_count": 29,
   "id": "bded3e18-8aa8-439d-a08f-1bde3b990696",
   "metadata": {},
   "outputs": [
    {
     "name": "stdout",
     "output_type": "stream",
     "text": [
      "That many Gb is required to hold U-U matrix of common movies in memory - 71.46\n"
     ]
    }
   ],
   "source": [
    "print(f\"That many Gb is required to hold U-U matrix of common movies in memory - {USER_NUM**2*4/1024/1024/1024:,.2f}\")"
   ]
  },
  {
   "cell_type": "code",
   "execution_count": 30,
   "id": "21f62927-1624-4acb-bef6-54052b643fa8",
   "metadata": {},
   "outputs": [
    {
     "name": "stdout",
     "output_type": "stream",
     "text": [
      "That many Gb is required to hold U-U matri of 34624 by 34624 common movies in memory - 4.47\n"
     ]
    }
   ],
   "source": [
    "print(f\"That many Gb is required to hold U-U matri of {chunk} by {chunk} common movies in memory - {chunk*chunk*4/1024/1024/1024:,.2f}\")"
   ]
  },
  {
   "cell_type": "code",
   "execution_count": 31,
   "id": "10bc4de5-fcef-4c92-a3f5-57a70d824666",
   "metadata": {},
   "outputs": [
    {
     "name": "stdout",
     "output_type": "stream",
     "text": [
      "CPU times: user 3 s, sys: 145 ms, total: 3.14 s\n",
      "Wall time: 3.4 s\n"
     ]
    }
   ],
   "source": [
    "%%time\n",
    "# get the number of common movies for the first chunk users just in 3-4 seconds\n",
    "chunk_one_cuda = watched_movies_cuda[:chunk]*watched_movies_cuda[:chunk].T"
   ]
  },
  {
   "cell_type": "markdown",
   "id": "ea8d2f3d-9632-4dbc-8bb5-f65edb0e1b03",
   "metadata": {},
   "source": [
    "### Collect back to CPU and process"
   ]
  },
  {
   "cell_type": "code",
   "execution_count": 32,
   "id": "e657b033-b02c-4483-80e7-ee4d4519297b",
   "metadata": {},
   "outputs": [
    {
     "name": "stdout",
     "output_type": "stream",
     "text": [
      "CPU times: user 5.09 s, sys: 51.5 s, total: 56.6 s\n",
      "Wall time: 1min 31s\n"
     ]
    }
   ],
   "source": [
    "%%time\n",
    "# collect on cpu\n",
    "chunk_one_cpu = chunk_one_cuda.get().astype(np.uint16)"
   ]
  },
  {
   "cell_type": "code",
   "execution_count": 33,
   "id": "9c92e849-caf8-42e9-9a31-dd36bf708147",
   "metadata": {},
   "outputs": [
    {
     "data": {
      "text/plain": [
       "array([[140,   8,  27, ...,  31,  14,   7]], dtype=uint16)"
      ]
     },
     "execution_count": 33,
     "metadata": {},
     "output_type": "execute_result"
    }
   ],
   "source": [
    "chunk_one_cpu[0].toarray()"
   ]
  },
  {
   "cell_type": "markdown",
   "id": "a5d14ab2-a8d0-4355-8738-16639289aad5",
   "metadata": {},
   "source": [
    "## Now let's make recommender for for a particular user for particular movie"
   ]
  },
  {
   "cell_type": "code",
   "execution_count": 250,
   "id": "6ca99dd5-bde4-4f70-90a3-d68c2e8efba7",
   "metadata": {},
   "outputs": [],
   "source": [
    "from sklearn.metrics import mean_squared_error, r2_score"
   ]
  },
  {
   "cell_type": "code",
   "execution_count": 211,
   "id": "1b48e0fd-3a30-4d45-b1a0-f22a59b707a7",
   "metadata": {},
   "outputs": [],
   "source": [
    "def user2user_prediction(user_i, movie_j, \n",
    "                         user2user_common_cuda, \n",
    "                         csr_ratings, \n",
    "                         common_movies_fraction = 0.6, similarity_threshold = 0.5, extended_stat=False):\n",
    "    \"\"\"\n",
    "    Givet a user_i, make a prediction of rating for movie_j\n",
    "    Parameters:\n",
    "     - user_i, movie_j - user and movie id\n",
    "     - user2user_common_cuda - a CUPY matrix that holds how many movies in common two users have\n",
    "     - csr_ratings - a sparse matrix that holds all ratings of users\n",
    "     - common_movies_fraction - consider only users who have seen at least % of movies that user_i have seen\n",
    "     - similarity_threshold - consider only users who's similarity to user_i is at least this value\n",
    "     - extended_stat=False - return a list with the following data for each item impacted the score - n_common_movies, correlation\n",
    "    \"\"\"\n",
    "    COMMON_MOVIES_N = int(csr_ratings[user_i].nnz*common_movies_fraction)\n",
    "    \n",
    "    # get users that watched in common with user_i >= COMMON_MOVIES_N\n",
    "    _, common_users = np.where((user2user_common_cuda[user_i]>=COMMON_MOVIES_N).get().toarray()==True)\n",
    "    \n",
    "    # enumerator of the rating\n",
    "    sum_delta = 0\n",
    "    # denomitator of the rating\n",
    "    sum_weights = 0\n",
    "    SIMILARITY_THRESHHOLD = similarity_threshold\n",
    "\n",
    "    # get the list of common users who have rated movie_j\n",
    "    # note that rows are from 0 to len(common_users)\n",
    "    rows, _ , rating_values  = find(csr_ratings[common_users, movie_j])\n",
    "    # get all movies that user i has watched\n",
    "    _, movies_i = csr_ratings[user_i].nonzero()\n",
    "\n",
    "    # total number of similar users that fit condition w > SIMILARITY_THRESHHOLD\n",
    "    similar_users = 0\n",
    "    # stats on the calculation\n",
    "    # for each user record number of common movies - n_common_movies and actual correlation\n",
    "    common_users_stat = []\n",
    "\n",
    "    for pos_ii,rating_ii in zip(rows, rating_values):\n",
    "        # get id of current user\n",
    "        user_ii = common_users[pos_ii]\n",
    "        # if current user is the user_i - continue\n",
    "        if user_ii == user_i:\n",
    "            continue\n",
    "        # get all movies that a user_ii has rated\n",
    "        _, movies_ii = csr_ratings[user_ii,:].nonzero()\n",
    "        # get intersection of movies rated by i and ii\n",
    "        common_movies_i_ii = np.array(list(set(movies_ii).intersection(set(movies_i))))\n",
    "        # calculate cosine similarity of user_i and user ii \n",
    "        w = 1 - cosine(csr_ratings[user_i, common_movies_i_ii].toarray()[0], csr_ratings[user_ii, common_movies_i_ii].toarray()[0])\n",
    "        # skip if similarity is less then \n",
    "        if w < SIMILARITY_THRESHHOLD :\n",
    "            continue\n",
    "        sum_delta += rating_ii*w\n",
    "        sum_weights += abs(w)\n",
    "        similar_users += 1\n",
    "        if extended_stat:\n",
    "            common_users_stat.append({'n_common_movies':len(common_movies_i_ii), 'correlation':round(w,2)})\n",
    "    try:\n",
    "        estimated_rating = sum_delta/sum_weights\n",
    "    except ZeroDivisionError:\n",
    "        estimated_rating = 0\n",
    "        \n",
    "    if extended_stat:\n",
    "        return (estimated_rating, common_users_stat)\n",
    "    return estimated_rating"
   ]
  },
  {
   "cell_type": "code",
   "execution_count": 212,
   "id": "1e97e3db-4733-404b-bb3b-d9f1d710ed35",
   "metadata": {},
   "outputs": [
    {
     "data": {
      "text/html": [
       "<div>\n",
       "<style scoped>\n",
       "    .dataframe tbody tr th:only-of-type {\n",
       "        vertical-align: middle;\n",
       "    }\n",
       "\n",
       "    .dataframe tbody tr th {\n",
       "        vertical-align: top;\n",
       "    }\n",
       "\n",
       "    .dataframe thead th {\n",
       "        text-align: right;\n",
       "    }\n",
       "</style>\n",
       "<table border=\"1\" class=\"dataframe\">\n",
       "  <thead>\n",
       "    <tr style=\"text-align: right;\">\n",
       "      <th></th>\n",
       "      <th>userId</th>\n",
       "      <th>movieId</th>\n",
       "      <th>rating</th>\n",
       "      <th>mean_rating</th>\n",
       "      <th>crating</th>\n",
       "      <th>NmovieId</th>\n",
       "    </tr>\n",
       "  </thead>\n",
       "  <tbody>\n",
       "    <tr>\n",
       "      <th>777999</th>\n",
       "      <td>5176</td>\n",
       "      <td>1584</td>\n",
       "      <td>3.50</td>\n",
       "      <td>3.51</td>\n",
       "      <td>-0.01</td>\n",
       "      <td>161</td>\n",
       "    </tr>\n",
       "  </tbody>\n",
       "</table>\n",
       "<p>1 rows × 6 columns</p>\n",
       "</div>"
      ],
      "text/plain": [
       "        userId  movieId  rating  mean_rating  crating  NmovieId\n",
       "777999    5176     1584    3.50         3.51    -0.01       161\n",
       "\n",
       "[1 rows x 6 columns]"
      ]
     },
     "execution_count": 212,
     "metadata": {},
     "output_type": "execute_result"
    }
   ],
   "source": [
    "sample_record = test_ratings.sample(1)\n",
    "sample_record"
   ]
  },
  {
   "cell_type": "code",
   "execution_count": 258,
   "id": "566b82cf-bc5b-4c05-b288-9c18fecf1bc4",
   "metadata": {},
   "outputs": [],
   "source": [
    "user_i, movie_j, gt_user_i_movie_j_rating = sample_record['userId'].values[0], sample_record['NmovieId'].values[0], sample_record['crating'].values[0]"
   ]
  },
  {
   "cell_type": "code",
   "execution_count": 262,
   "id": "77de8dd9-f2cd-4895-973c-5980c8aef9ef",
   "metadata": {
    "tags": []
   },
   "outputs": [
    {
     "data": {
      "text/plain": [
       "(-0.22791244951114736,\n",
       " [{'n_common_movies': 46, 'correlation': 0.52},\n",
       "  {'n_common_movies': 52, 'correlation': 0.52},\n",
       "  {'n_common_movies': 47, 'correlation': 0.56}])"
      ]
     },
     "execution_count": 262,
     "metadata": {},
     "output_type": "execute_result"
    }
   ],
   "source": [
    "user2user_prediction(user_i, movie_j, chunk_one_cuda, csr_ratings, common_movies_fraction = 0.2, similarity_threshold = 0.5, extended_stat=True )"
   ]
  },
  {
   "cell_type": "code",
   "execution_count": 263,
   "id": "4a70ec27-641a-4efe-a106-e010c49d9ac3",
   "metadata": {},
   "outputs": [
    {
     "data": {
      "text/plain": [
       "-0.010373354"
      ]
     },
     "execution_count": 263,
     "metadata": {},
     "output_type": "execute_result"
    }
   ],
   "source": [
    "gt_user_i_movie_j_rating"
   ]
  },
  {
   "cell_type": "code",
   "execution_count": 264,
   "id": "edb80c4a-acb2-41c0-a6bd-94cf9c6c6f48",
   "metadata": {},
   "outputs": [
    {
     "data": {
      "application/vnd.jupyter.widget-view+json": {
       "model_id": "b3cb04b026e6401e9dcbfbc886654ef1",
       "version_major": 2,
       "version_minor": 0
      },
      "text/plain": [
       "  0%|          | 0/1000 [00:00<?, ?it/s]"
      ]
     },
     "metadata": {},
     "output_type": "display_data"
    },
    {
     "name": "stderr",
     "output_type": "stream",
     "text": [
      "/opt/conda/envs/rapids/lib/python3.8/site-packages/numpy/lib/function_base.py:380: RuntimeWarning: Mean of empty slice.\n",
      "  avg = a.mean(axis)\n",
      "/opt/conda/envs/rapids/lib/python3.8/site-packages/numpy/core/_methods.py:189: RuntimeWarning: invalid value encountered in double_scalars\n",
      "  ret = ret.dtype.type(ret / rcount)\n"
     ]
    }
   ],
   "source": [
    "predicted_ratings = np.zeros_like(test_ratings.crating.values)\n",
    "index = 0\n",
    "for user_i, movie_j in tqdm(test_ratings[['userId', 'NmovieId']].values[:1000]):\n",
    "    predicted_ratings[index] = user2user_prediction(int(user_i), int(movie_j), \n",
    "                                                    chunk_one_cuda, csr_ratings, \n",
    "                                                    common_movies_fraction = 0.2, \n",
    "                                                    similarity_threshold = 0.6)\n",
    "    index +=1"
   ]
  },
  {
   "cell_type": "code",
   "execution_count": 265,
   "id": "228fa1f4-ff7b-4bd3-b585-6faf20a5b65c",
   "metadata": {},
   "outputs": [
    {
     "data": {
      "text/plain": [
       "0.8112501"
      ]
     },
     "execution_count": 265,
     "metadata": {},
     "output_type": "execute_result"
    }
   ],
   "source": [
    "mean_squared_error(test_ratings['crating'].values[:1000], predicted_ratings[:1000])"
   ]
  },
  {
   "cell_type": "code",
   "execution_count": 272,
   "id": "01c8beb7-8339-47ea-932c-8c1451936e93",
   "metadata": {},
   "outputs": [
    {
     "data": {
      "text/plain": [
       "0.14032851789893253"
      ]
     },
     "execution_count": 272,
     "metadata": {},
     "output_type": "execute_result"
    }
   ],
   "source": [
    "r2_score(test_ratings['crating'].values[:1000][predicted_ratings[:1000] != 0], predicted_ratings[:1000][predicted_ratings[:1000] != 0])"
   ]
  },
  {
   "cell_type": "code",
   "execution_count": 271,
   "id": "7989af07-e10b-4f07-8a45-41e5452016ae",
   "metadata": {},
   "outputs": [
    {
     "data": {
      "text/plain": [
       "[array([ True,  True,  True, False, False, False, False,  True, False,\n",
       "        False, False,  True,  True, False,  True,  True,  True,  True,\n",
       "         True,  True,  True,  True, False,  True,  True,  True, False,\n",
       "        False,  True,  True,  True, False,  True,  True,  True, False,\n",
       "         True,  True,  True,  True, False,  True,  True,  True,  True,\n",
       "         True, False,  True,  True, False,  True, False,  True,  True,\n",
       "         True, False, False,  True, False,  True,  True,  True, False,\n",
       "        False,  True, False, False,  True, False,  True,  True,  True,\n",
       "         True,  True,  True,  True,  True, False,  True,  True, False,\n",
       "        False,  True, False,  True,  True,  True, False, False, False,\n",
       "        False, False,  True,  True, False, False, False, False,  True,\n",
       "         True,  True,  True,  True,  True, False, False,  True,  True,\n",
       "         True,  True,  True,  True, False, False,  True,  True, False,\n",
       "        False,  True,  True,  True,  True,  True, False,  True,  True,\n",
       "        False,  True,  True,  True, False, False,  True,  True, False,\n",
       "        False,  True, False,  True,  True,  True,  True,  True,  True,\n",
       "        False,  True, False,  True, False,  True, False,  True,  True,\n",
       "         True,  True, False,  True, False,  True,  True,  True,  True,\n",
       "         True, False, False,  True,  True, False,  True,  True,  True,\n",
       "         True,  True,  True, False,  True,  True,  True,  True,  True,\n",
       "         True, False,  True,  True, False,  True,  True,  True,  True,\n",
       "        False, False,  True,  True, False, False,  True,  True,  True,\n",
       "        False, False,  True, False,  True,  True, False,  True,  True,\n",
       "         True,  True,  True,  True,  True,  True, False,  True, False,\n",
       "         True,  True,  True,  True,  True,  True, False,  True,  True,\n",
       "         True,  True,  True,  True,  True,  True, False,  True,  True,\n",
       "         True, False,  True,  True, False,  True, False,  True,  True,\n",
       "        False, False, False,  True,  True, False,  True, False, False,\n",
       "        False, False,  True,  True,  True, False, False,  True, False,\n",
       "         True,  True,  True,  True, False, False,  True,  True,  True,\n",
       "         True,  True,  True,  True,  True,  True, False,  True,  True,\n",
       "         True, False,  True,  True,  True,  True, False,  True,  True,\n",
       "         True,  True, False, False,  True,  True, False,  True,  True,\n",
       "        False, False,  True, False,  True,  True,  True,  True,  True,\n",
       "        False,  True, False,  True,  True, False,  True,  True, False,\n",
       "         True,  True, False,  True, False,  True,  True,  True,  True,\n",
       "         True, False,  True,  True,  True,  True, False,  True,  True,\n",
       "        False,  True,  True,  True,  True,  True, False,  True,  True,\n",
       "         True,  True,  True,  True, False,  True, False,  True,  True,\n",
       "        False, False,  True,  True,  True,  True,  True, False, False,\n",
       "         True,  True, False,  True,  True,  True,  True,  True, False,\n",
       "         True, False, False, False,  True, False,  True, False,  True,\n",
       "         True, False,  True,  True,  True,  True, False, False,  True,\n",
       "         True,  True,  True,  True, False,  True, False,  True, False,\n",
       "         True,  True,  True,  True,  True, False,  True,  True, False,\n",
       "         True,  True, False,  True, False, False,  True,  True,  True,\n",
       "        False, False, False,  True,  True,  True,  True,  True,  True,\n",
       "         True,  True,  True, False, False, False,  True,  True, False,\n",
       "         True, False,  True,  True, False,  True,  True, False,  True,\n",
       "        False,  True,  True, False, False, False,  True,  True,  True,\n",
       "         True,  True,  True, False, False,  True,  True,  True,  True,\n",
       "        False, False, False,  True, False,  True,  True,  True,  True,\n",
       "         True,  True,  True, False, False, False,  True, False,  True,\n",
       "        False,  True,  True, False,  True,  True,  True, False,  True,\n",
       "         True,  True, False, False, False, False, False,  True, False,\n",
       "        False,  True,  True, False,  True, False,  True,  True,  True,\n",
       "        False,  True, False, False,  True, False, False, False,  True,\n",
       "        False,  True, False, False, False, False, False,  True,  True,\n",
       "         True,  True, False, False, False, False, False, False, False,\n",
       "         True, False,  True, False,  True,  True, False, False, False,\n",
       "         True,  True, False, False, False, False, False,  True, False,\n",
       "         True,  True,  True, False, False,  True, False, False, False,\n",
       "         True,  True, False,  True,  True, False,  True, False,  True,\n",
       "         True, False, False, False, False,  True,  True,  True,  True,\n",
       "         True, False, False, False, False, False,  True,  True,  True,\n",
       "         True, False,  True,  True,  True, False,  True, False, False,\n",
       "        False,  True, False,  True,  True, False,  True,  True,  True,\n",
       "         True,  True, False, False,  True,  True, False,  True, False,\n",
       "         True,  True,  True,  True, False,  True,  True,  True,  True,\n",
       "         True, False,  True,  True, False,  True,  True, False,  True,\n",
       "        False,  True, False,  True,  True,  True,  True,  True,  True,\n",
       "        False,  True, False,  True,  True,  True,  True,  True,  True,\n",
       "        False,  True, False,  True,  True,  True,  True, False, False,\n",
       "         True,  True, False,  True,  True,  True,  True, False, False,\n",
       "         True, False,  True,  True,  True,  True,  True, False, False,\n",
       "         True,  True,  True,  True,  True, False, False,  True,  True,\n",
       "         True,  True,  True,  True,  True,  True, False,  True, False,\n",
       "         True,  True, False, False,  True,  True,  True, False,  True,\n",
       "         True,  True, False,  True, False,  True,  True,  True,  True,\n",
       "         True,  True,  True,  True, False, False,  True,  True, False,\n",
       "         True, False, False,  True,  True, False,  True, False, False,\n",
       "        False,  True,  True,  True, False,  True,  True,  True, False,\n",
       "         True,  True,  True,  True,  True,  True, False, False, False,\n",
       "         True, False,  True,  True, False,  True, False,  True, False,\n",
       "         True,  True,  True,  True,  True,  True, False,  True,  True,\n",
       "        False,  True,  True, False, False, False, False, False, False,\n",
       "        False, False, False, False, False,  True,  True,  True,  True,\n",
       "        False, False, False, False,  True,  True,  True,  True,  True,\n",
       "         True,  True, False,  True,  True, False,  True,  True, False,\n",
       "        False, False, False,  True,  True,  True,  True,  True,  True,\n",
       "        False, False,  True, False,  True,  True, False, False, False,\n",
       "        False,  True,  True, False, False,  True, False, False,  True,\n",
       "         True, False, False, False, False,  True, False,  True,  True,\n",
       "         True, False, False,  True,  True,  True,  True,  True, False,\n",
       "         True, False,  True,  True,  True,  True, False,  True,  True,\n",
       "         True,  True, False,  True,  True,  True, False,  True,  True,\n",
       "         True, False,  True, False, False,  True,  True,  True, False,\n",
       "         True, False,  True, False, False, False,  True, False, False,\n",
       "        False,  True,  True,  True, False, False,  True,  True, False,\n",
       "        False,  True,  True,  True,  True,  True,  True,  True, False,\n",
       "        False, False,  True, False,  True, False, False,  True,  True,\n",
       "         True,  True,  True,  True,  True,  True, False, False,  True,\n",
       "        False,  True, False,  True, False,  True,  True, False,  True,\n",
       "         True,  True, False, False, False, False,  True,  True,  True,\n",
       "        False, False,  True, False,  True,  True,  True,  True,  True,\n",
       "         True,  True, False, False, False, False,  True, False,  True,\n",
       "         True,  True,  True,  True,  True, False,  True,  True,  True,\n",
       "        False,  True, False,  True,  True, False, False,  True, False,\n",
       "         True,  True,  True,  True, False, False, False,  True, False,\n",
       "        False, False, False, False, False,  True,  True,  True, False,\n",
       "         True,  True,  True, False, False,  True, False,  True,  True,\n",
       "         True])]"
      ]
     },
     "execution_count": 271,
     "metadata": {},
     "output_type": "execute_result"
    }
   ],
   "source": [
    "[predicted_ratings[:1000] != 0]"
   ]
  },
  {
   "cell_type": "code",
   "execution_count": null,
   "id": "6b55819b-9da3-4cdc-8ec5-b6fec644565e",
   "metadata": {},
   "outputs": [],
   "source": []
  }
 ],
 "metadata": {
  "kernelspec": {
   "display_name": "Python 3 (ipykernel)",
   "language": "python",
   "name": "python3"
  },
  "language_info": {
   "codemirror_mode": {
    "name": "ipython",
    "version": 3
   },
   "file_extension": ".py",
   "mimetype": "text/x-python",
   "name": "python",
   "nbconvert_exporter": "python",
   "pygments_lexer": "ipython3",
   "version": "3.8.12"
  }
 },
 "nbformat": 4,
 "nbformat_minor": 5
}
