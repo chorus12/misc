{
 "cells": [
  {
   "cell_type": "markdown",
   "id": "57049808-85f1-4b4e-a313-bc97d1f601d9",
   "metadata": {},
   "source": [
    "# Using Bayesian and Grad policy approach to get most possible rewards from bandit machines  \n",
    "from https://github.com/lazyprogrammer/machine_learning_examples/tree/master/rl"
   ]
  },
  {
   "cell_type": "code",
   "execution_count": 67,
   "id": "83dd31fc-0a29-41ff-92be-2b1346dc9f43",
   "metadata": {},
   "outputs": [],
   "source": [
    "%matplotlib inline\n",
    "%config Completer.use_jedi = False\n",
    "import numpy as np\n",
    "from scipy.stats import beta\n",
    "import matplotlib.pyplot as plt\n",
    "from tqdm.notebook import tqdm\n",
    "import seaborn as sns"
   ]
  },
  {
   "cell_type": "code",
   "execution_count": 24,
   "id": "d8197192-0a79-4106-8b16-34b713fb43bb",
   "metadata": {},
   "outputs": [],
   "source": [
    "NUM_TRIALS = 2000\n",
    "BANDIT_PROBABILITIES = [0.1,0.5,0.6]"
   ]
  },
  {
   "cell_type": "markdown",
   "id": "daed26fb-baca-4913-b63b-d60760200e9a",
   "metadata": {},
   "source": [
    "## Bayesian implementation"
   ]
  },
  {
   "cell_type": "code",
   "execution_count": 41,
   "id": "9f7774ec-74f0-4431-a67a-7d3448283dbb",
   "metadata": {},
   "outputs": [],
   "source": [
    "class BanditBernoulli(object):\n",
    "    '''\n",
    "    class to simulate a bandit with given probability\n",
    "    '''\n",
    "    def __init__(self, p):\n",
    "        '''\n",
    "        Input: p - true probability for a bandit\n",
    "        Also sets the following properties:\n",
    "        N - number of trials run so far\n",
    "        a, b - params of Beta distribution set to 1 and 1 for uniform\n",
    "        '''\n",
    "        self.p = p\n",
    "        self.a , self.b = 1, 1\n",
    "        self.N = 0\n",
    "        \n",
    "    def pull(self):\n",
    "        # get a real value from bandit\n",
    "        return np.random.random() <= self.p\n",
    "\n",
    "    def get_pdf(self,x):\n",
    "        return beta.pdf(x,self.a,self.b)\n",
    "\n",
    "    def sample(self):\n",
    "        # Get an estimation of p from Beta distribution\n",
    "        return beta.rvs(self.a, self.b)\n",
    "    \n",
    "    def update(self, x):\n",
    "        #update a and b after a bandit pull\n",
    "        self.N += 1\n",
    "        self.a += x\n",
    "        self.b += 1 - x"
   ]
  },
  {
   "cell_type": "code",
   "execution_count": 42,
   "id": "3fc1393d-d540-474f-ade9-22d513d67116",
   "metadata": {},
   "outputs": [],
   "source": [
    "def plot(bandits, trial):\n",
    "    # plot all bandit distributions on the graph\n",
    "    x = np.linspace(0, 1, 200)\n",
    "    for b in bandits:\n",
    "        y = b.get_pdf(x)\n",
    "        plt.plot(x, y, label=f\"real p: {b.p:.4f}, win rate = {b.a - 1}/{b.N}\")\n",
    "    plt.title(f\"Bandit distributions after {trial} trials\")\n",
    "    plt.legend()\n",
    "    plt.show()"
   ]
  },
  {
   "cell_type": "code",
   "execution_count": 74,
   "id": "5ff934bb-fe69-4678-995e-3442bd0354e4",
   "metadata": {},
   "outputs": [],
   "source": [
    "def experiment(class_name, plot_graphs=False):\n",
    "    # class_name - what class to create\n",
    "    bandits = [class_name(p) for p in BANDIT_PROBABILITIES] # instantiate bandits\n",
    "\n",
    "    sample_points = [5,10,20,50,100,200,500,1000,1500,1999]\n",
    "    \n",
    "    rewards = np.zeros(NUM_TRIALS)\n",
    "    \n",
    "    for i in range(NUM_TRIALS):\n",
    "        # Thompson sampling - take the bandit with the highest prob to win\n",
    "        j = np.argmax([b.sample() for b in bandits])\n",
    "\n",
    "        # plot the posteriors\n",
    "        if (i in sample_points)and(plot_graphs):\n",
    "            plot(bandits, i)\n",
    "\n",
    "        # pull the arm for the bandit with the largest sample\n",
    "        x = bandits[j].pull()\n",
    "\n",
    "        # update rewards\n",
    "        rewards[i] = x\n",
    "\n",
    "        # update the distribution for the bandit whose arm we just pulled\n",
    "        bandits[j].update(x)\n",
    "\n",
    "    # print total reward\n",
    "    print(\"total reward earned:\", rewards.sum())\n",
    "    print(\"overall win rate:\", rewards.sum() / NUM_TRIALS)\n",
    "    print(\"num times selected each bandit:\", [b.N for b in bandits])\n",
    "    return rewards.sum()"
   ]
  },
  {
   "cell_type": "code",
   "execution_count": 60,
   "id": "356fe7c3-a34e-4bb9-a079-b553d5c3d872",
   "metadata": {
    "collapsed": true,
    "jupyter": {
     "outputs_hidden": true
    },
    "tags": []
   },
   "outputs": [
    {
     "name": "stdout",
     "output_type": "stream",
     "text": [
      "total reward earned: 1166.0\n",
      "overall win rate: 0.583\n",
      "num times selected each bandit: [10, 133, 1857]\n",
      "total reward earned: 1199.0\n",
      "overall win rate: 0.5995\n",
      "num times selected each bandit: [8, 85, 1907]\n",
      "total reward earned: 1220.0\n",
      "overall win rate: 0.61\n",
      "num times selected each bandit: [12, 31, 1957]\n",
      "total reward earned: 1181.0\n",
      "overall win rate: 0.5905\n",
      "num times selected each bandit: [9, 72, 1919]\n",
      "total reward earned: 1190.0\n",
      "overall win rate: 0.595\n",
      "num times selected each bandit: [7, 352, 1641]\n",
      "total reward earned: 1196.0\n",
      "overall win rate: 0.598\n",
      "num times selected each bandit: [19, 69, 1912]\n",
      "total reward earned: 1187.0\n",
      "overall win rate: 0.5935\n",
      "num times selected each bandit: [8, 10, 1982]\n",
      "total reward earned: 1205.0\n",
      "overall win rate: 0.6025\n",
      "num times selected each bandit: [9, 82, 1909]\n",
      "total reward earned: 1171.0\n",
      "overall win rate: 0.5855\n",
      "num times selected each bandit: [7, 489, 1504]\n",
      "total reward earned: 1219.0\n",
      "overall win rate: 0.6095\n",
      "num times selected each bandit: [7, 57, 1936]\n",
      "total reward earned: 1173.0\n",
      "overall win rate: 0.5865\n",
      "num times selected each bandit: [18, 244, 1738]\n",
      "total reward earned: 1175.0\n",
      "overall win rate: 0.5875\n",
      "num times selected each bandit: [6, 59, 1935]\n",
      "total reward earned: 1162.0\n",
      "overall win rate: 0.581\n",
      "num times selected each bandit: [8, 41, 1951]\n",
      "total reward earned: 1186.0\n",
      "overall win rate: 0.593\n",
      "num times selected each bandit: [7, 49, 1944]\n",
      "total reward earned: 1171.0\n",
      "overall win rate: 0.5855\n",
      "num times selected each bandit: [7, 138, 1855]\n",
      "total reward earned: 1112.0\n",
      "overall win rate: 0.556\n",
      "num times selected each bandit: [8, 374, 1618]\n",
      "total reward earned: 1168.0\n",
      "overall win rate: 0.584\n",
      "num times selected each bandit: [8, 90, 1902]\n",
      "total reward earned: 1209.0\n",
      "overall win rate: 0.6045\n",
      "num times selected each bandit: [6, 125, 1869]\n",
      "total reward earned: 1187.0\n",
      "overall win rate: 0.5935\n",
      "num times selected each bandit: [9, 18, 1973]\n",
      "total reward earned: 1183.0\n",
      "overall win rate: 0.5915\n",
      "num times selected each bandit: [7, 78, 1915]\n",
      "total reward earned: 1219.0\n",
      "overall win rate: 0.6095\n",
      "num times selected each bandit: [15, 22, 1963]\n",
      "total reward earned: 1165.0\n",
      "overall win rate: 0.5825\n",
      "num times selected each bandit: [14, 111, 1875]\n",
      "total reward earned: 1191.0\n",
      "overall win rate: 0.5955\n",
      "num times selected each bandit: [8, 175, 1817]\n",
      "total reward earned: 1189.0\n",
      "overall win rate: 0.5945\n",
      "num times selected each bandit: [13, 96, 1891]\n",
      "total reward earned: 1219.0\n",
      "overall win rate: 0.6095\n",
      "num times selected each bandit: [7, 65, 1928]\n",
      "total reward earned: 1156.0\n",
      "overall win rate: 0.578\n",
      "num times selected each bandit: [10, 233, 1757]\n",
      "total reward earned: 1182.0\n",
      "overall win rate: 0.591\n",
      "num times selected each bandit: [7, 109, 1884]\n",
      "total reward earned: 1205.0\n",
      "overall win rate: 0.6025\n",
      "num times selected each bandit: [10, 86, 1904]\n",
      "total reward earned: 1190.0\n",
      "overall win rate: 0.595\n",
      "num times selected each bandit: [7, 113, 1880]\n",
      "total reward earned: 1158.0\n",
      "overall win rate: 0.579\n",
      "num times selected each bandit: [7, 243, 1750]\n",
      "total reward earned: 1199.0\n",
      "overall win rate: 0.5995\n",
      "num times selected each bandit: [20, 102, 1878]\n",
      "total reward earned: 1193.0\n",
      "overall win rate: 0.5965\n",
      "num times selected each bandit: [7, 148, 1845]\n",
      "total reward earned: 1187.0\n",
      "overall win rate: 0.5935\n",
      "num times selected each bandit: [9, 172, 1819]\n",
      "total reward earned: 1165.0\n",
      "overall win rate: 0.5825\n",
      "num times selected each bandit: [21, 53, 1926]\n",
      "total reward earned: 1185.0\n",
      "overall win rate: 0.5925\n",
      "num times selected each bandit: [7, 69, 1924]\n",
      "total reward earned: 1204.0\n",
      "overall win rate: 0.602\n",
      "num times selected each bandit: [7, 349, 1644]\n",
      "total reward earned: 1196.0\n",
      "overall win rate: 0.598\n",
      "num times selected each bandit: [9, 256, 1735]\n",
      "total reward earned: 1193.0\n",
      "overall win rate: 0.5965\n",
      "num times selected each bandit: [6, 159, 1835]\n",
      "total reward earned: 1159.0\n",
      "overall win rate: 0.5795\n",
      "num times selected each bandit: [11, 128, 1861]\n",
      "total reward earned: 1218.0\n",
      "overall win rate: 0.609\n",
      "num times selected each bandit: [19, 38, 1943]\n",
      "total reward earned: 1171.0\n",
      "overall win rate: 0.5855\n",
      "num times selected each bandit: [10, 249, 1741]\n",
      "total reward earned: 1152.0\n",
      "overall win rate: 0.576\n",
      "num times selected each bandit: [12, 371, 1617]\n",
      "total reward earned: 1148.0\n",
      "overall win rate: 0.574\n",
      "num times selected each bandit: [13, 219, 1768]\n",
      "total reward earned: 1194.0\n",
      "overall win rate: 0.597\n",
      "num times selected each bandit: [6, 137, 1857]\n",
      "total reward earned: 1201.0\n",
      "overall win rate: 0.6005\n",
      "num times selected each bandit: [9, 166, 1825]\n",
      "total reward earned: 1082.0\n",
      "overall win rate: 0.541\n",
      "num times selected each bandit: [15, 618, 1367]\n",
      "total reward earned: 1166.0\n",
      "overall win rate: 0.583\n",
      "num times selected each bandit: [16, 192, 1792]\n",
      "total reward earned: 1194.0\n",
      "overall win rate: 0.597\n",
      "num times selected each bandit: [8, 51, 1941]\n",
      "total reward earned: 1194.0\n",
      "overall win rate: 0.597\n",
      "num times selected each bandit: [9, 263, 1728]\n",
      "total reward earned: 1203.0\n",
      "overall win rate: 0.6015\n",
      "num times selected each bandit: [7, 223, 1770]\n"
     ]
    }
   ],
   "source": [
    "# run experiment 50 times\n",
    "bayes_reward = np.array([experiment(BanditBernoulli) for k in range(50)])"
   ]
  },
  {
   "cell_type": "code",
   "execution_count": 72,
   "id": "55c3a1d5-9e77-4be1-b83d-05c5c4094642",
   "metadata": {},
   "outputs": [
    {
     "data": {
      "image/png": "[encoded data removed]",
      "text/plain": [
       "<Figure size 432x288 with 1 Axes>"
      ]
     },
     "metadata": {
      "needs_background": "light"
     },
     "output_type": "display_data"
    }
   ],
   "source": [
    "sns.histplot(bayes_reward, kde=True);"
   ]
  },
  {
   "cell_type": "markdown",
   "id": "2eb53c59-f5db-4299-b264-a9312069a53d",
   "metadata": {},
   "source": [
    "##  Grad policy updater implementation"
   ]
  },
  {
   "cell_type": "code",
   "execution_count": 329,
   "id": "cf2cbd6f-f7b4-4da9-baf6-69ef70fe8bbb",
   "metadata": {},
   "outputs": [],
   "source": [
    "class GradBandit(object):\n",
    "    # class to model a bandit with Grad Uphill Algorythm\n",
    "    def __init__(self, p, alpha=0.1):\n",
    "        self.p = p\n",
    "        self.N = 0 # how many times the bandit was used\n",
    "        self.H = 0 # H - the preference towards this bandit\n",
    "        self.alpha = alpha # learning rate for the update of preference H\n",
    "        \n",
    "    def pull(self):\n",
    "        # get a real value from bandit\n",
    "        self.N += 1\n",
    "        return np.random.random() <= self.p\n",
    "\n",
    "    def update(self, delta):\n",
    "        # update a preference\n",
    "        self.H += self.alpha*delta"
   ]
  },
  {
   "cell_type": "code",
   "execution_count": 331,
   "id": "37eef125-fa27-4ec9-9785-696336d256ad",
   "metadata": {},
   "outputs": [],
   "source": [
    "class GradBanditUpdater(object):\n",
    "    def __init__(self, grad_bandits):\n",
    "        self.grad_bandits = grad_bandits # list with bandits\n",
    "        self.NB = len(grad_bandits) # number of bandits \n",
    "        self.probs = [1/len(self.grad_bandits)]*self.NB # initial probs to select bandits\n",
    "        self.reward = 0 # cumulative reward for updater\n",
    "        self.running_n = 0 # number pull iterations\n",
    "    def update_probs(self):\n",
    "        # apply softmax to bandits and update probs for updater\n",
    "        softmax_denominator = np.sum([np.exp(b.H) for b in self.grad_bandits])\n",
    "        for i,b in enumerate(self.grad_bandits):\n",
    "            self.probs[i] = np.exp(b.H)/softmax_denominator\n",
    "    def get_pull_bandit(self):\n",
    "        # select a bandit to pull from \n",
    "        return np.random.choice(list(range(self.NB)),1,p=self.probs)[0]\n",
    "    def pull_bandit(self, i):\n",
    "        # actuall pull a bandit number i from the self.grad_bandits\n",
    "        self.running_n +=1\n",
    "        return np.random.random() <= self.grad_bandits[i].p\n",
    "    def make_iteration(self):\n",
    "        # main routine - makes a selection and updates all data\n",
    "        # make a selection of bandit\n",
    "        selected_bandit = self.get_pull_bandit()\n",
    "        # pull a bandit\n",
    "        iteration_reward = self.pull_bandit(selected_bandit)\n",
    "        self.reward += iteration_reward # update reward\n",
    "        current_mean_reward = self.reward/self.running_n # update mean reward\n",
    "        # update preference estimation\n",
    "        for i in range(self.NB):\n",
    "            if i == selected_bandit:\n",
    "                delta = (iteration_reward - current_mean_reward)*(1 - self.probs[i])\n",
    "            else:\n",
    "                delta = -(iteration_reward - current_mean_reward)*self.probs[i]\n",
    "            self.grad_bandits[i].update(delta)\n",
    "        # update probs via softmax\n",
    "        self.update_probs()\n",
    "        # and we are done\n",
    "        return self.reward"
   ]
  },
  {
   "cell_type": "code",
   "execution_count": 332,
   "id": "e0a5b015-285f-48dc-80a9-62cb17d80ff4",
   "metadata": {},
   "outputs": [],
   "source": [
    "grad_bandits = [GradBandit(p) for p in BANDIT_PROBABILITIES]\n",
    "gb_updater = GradBanditUpdater(grad_bandits)"
   ]
  },
  {
   "cell_type": "code",
   "execution_count": 333,
   "id": "de338f6c-d760-4e22-8512-d4bd59ea126e",
   "metadata": {},
   "outputs": [],
   "source": [
    "def experiment_grad_bandits():\n",
    "    grad_bandits = [GradBandit(p) for p in BANDIT_PROBABILITIES]\n",
    "    gb_updater = GradBanditUpdater(grad_bandits)\n",
    "    trial_results =[]\n",
    "    for i in range(NUM_TRIALS):\n",
    "        trial_results.append(gb_updater.make_iteration())\n",
    "    return gb_updater, trial_results"
   ]
  },
  {
   "cell_type": "code",
   "execution_count": null,
   "id": "a6338665-1e8e-465b-9e7f-865f43cf9a2e",
   "metadata": {},
   "outputs": [],
   "source": [
    "# run 50 experiments\n",
    "gb_rewards = []\n",
    "for i in tqdm(range(50)):\n",
    "    gb_updater, trial_results = experiment_grad_bandits()\n",
    "    gb_rewards.append(gb_updater.reward)"
   ]
  },
  {
   "cell_type": "markdown",
   "id": "f5b66bca-3e5f-4ed2-b5ea-91e002d786c9",
   "metadata": {},
   "source": [
    "## Compare results"
   ]
  },
  {
   "cell_type": "code",
   "execution_count": 350,
   "id": "231a889f-a376-4f43-a653-14ed51397122",
   "metadata": {},
   "outputs": [],
   "source": [
    "import scipy.stats as st"
   ]
  },
  {
   "cell_type": "code",
   "execution_count": 361,
   "id": "668c1f35-c2ae-403e-b8ff-7f1054b5d09c",
   "metadata": {},
   "outputs": [
    {
     "data": {
      "text/plain": [
       "Ttest_indResult(statistic=6.987149486641803, pvalue=3.4162541586138974e-10)"
      ]
     },
     "execution_count": 361,
     "metadata": {},
     "output_type": "execute_result"
    }
   ],
   "source": [
    "# they are different\n",
    "st.ttest_ind(bayes_reward, gb_rewards)"
   ]
  },
  {
   "cell_type": "code",
   "execution_count": 363,
   "id": "18063d9a-4332-450d-87d1-1290ecfbb4dd",
   "metadata": {},
   "outputs": [
    {
     "name": "stdout",
     "output_type": "stream",
     "text": [
      "1145 - 1156 Grad policy updater \n",
      "1175 - 1190 Bayesian updater\n"
     ]
    }
   ],
   "source": [
    "gb_reward_interval = st.t.interval(alpha=0.95, df=len(gb_rewards)-1, loc=np.mean(gb_rewards), scale=st.sem(gb_rewards))\n",
    "bayes_reward_interval =  st.t.interval(alpha=0.95, df=len(bayes_reward)-1, loc=np.mean(bayes_reward), scale=st.sem(bayes_reward)) \n",
    "\n",
    "print(f\"{gb_reward_interval[0]:.0f} - {gb_reward_interval[1]:.0f} Grad policy updater \")\n",
    "print(f\"{bayes_reward_interval[0]:.0f} - {bayes_reward_interval[1]:.0f} Bayesian updater\")"
   ]
  },
  {
   "cell_type": "code",
   "execution_count": null,
   "id": "7c8aa24b-0b4f-4019-b982-8cda5d64bc84",
   "metadata": {},
   "outputs": [],
   "source": [
    "(np.mean(bayes_reward)-np.mean(gb_rewards))/np.mean(gb_rewards)"
   ]
  },
  {
   "cell_type": "markdown",
   "id": "41e24a4d-89d8-4d5b-a433-a903a982c744",
   "metadata": {},
   "source": [
    "## Debug zone"
   ]
  },
  {
   "cell_type": "code",
   "execution_count": 303,
   "id": "ea6665c9-4215-4b8a-9849-2ab0ec05bef4",
   "metadata": {},
   "outputs": [
    {
     "data": {
      "text/plain": [
       "[0.3333333333333333, 0.3333333333333333, 0.3333333333333333]"
      ]
     },
     "execution_count": 303,
     "metadata": {},
     "output_type": "execute_result"
    }
   ],
   "source": [
    "gb_updater.probs"
   ]
  },
  {
   "cell_type": "code",
   "execution_count": 323,
   "id": "8fcdb793-9d48-4dae-ae17-995182af7667",
   "metadata": {},
   "outputs": [
    {
     "data": {
      "text/plain": [
       "6"
      ]
     },
     "execution_count": 323,
     "metadata": {},
     "output_type": "execute_result"
    }
   ],
   "source": [
    "gb_updater.make_iteration()"
   ]
  },
  {
   "cell_type": "code",
   "execution_count": 296,
   "id": "f057af38-5446-421c-aff7-b0ec945bea84",
   "metadata": {},
   "outputs": [
    {
     "data": {
      "text/plain": [
       "2"
      ]
     },
     "execution_count": 296,
     "metadata": {},
     "output_type": "execute_result"
    }
   ],
   "source": [
    "gb_updater.get_pull_bandit()"
   ]
  },
  {
   "cell_type": "code",
   "execution_count": 297,
   "id": "4d4c5f0d-e18c-4452-9fc5-b252d96e2141",
   "metadata": {},
   "outputs": [],
   "source": [
    "grad_bandits[0].H = 110 "
   ]
  },
  {
   "cell_type": "code",
   "execution_count": 298,
   "id": "0b687a4b-2663-46b8-9aaa-02f4ce2cc02d",
   "metadata": {},
   "outputs": [],
   "source": [
    "grad_bandits[2].H = 120"
   ]
  },
  {
   "cell_type": "code",
   "execution_count": 299,
   "id": "a2136796-23c0-47bc-b7cd-ebafc567eef2",
   "metadata": {},
   "outputs": [],
   "source": [
    "gb_updater.update_probs()"
   ]
  },
  {
   "cell_type": "code",
   "execution_count": 324,
   "id": "37ad9ab8-f791-46b3-afcc-573adddb0447",
   "metadata": {},
   "outputs": [
    {
     "data": {
      "text/plain": [
       "[0.26892959203422073, 0.3796829301340696, 0.3513874778317097]"
      ]
     },
     "execution_count": 324,
     "metadata": {},
     "output_type": "execute_result"
    }
   ],
   "source": [
    "gb_updater.probs"
   ]
  },
  {
   "cell_type": "code",
   "execution_count": 214,
   "id": "33a1c0de-c21a-4e32-af13-6cc52101dc5e",
   "metadata": {},
   "outputs": [
    {
     "data": {
      "text/plain": [
       "10"
      ]
     },
     "execution_count": 214,
     "metadata": {},
     "output_type": "execute_result"
    }
   ],
   "source": [
    "gb_updater.grad_bandits[0].H"
   ]
  }
 ],
 "metadata": {
  "kernelspec": {
   "display_name": "Python 3 (ipykernel)",
   "language": "python",
   "name": "python3"
  },
  "language_info": {
   "codemirror_mode": {
    "name": "ipython",
    "version": 3
   },
   "file_extension": ".py",
   "mimetype": "text/x-python",
   "name": "python",
   "nbconvert_exporter": "python",
   "pygments_lexer": "ipython3",
   "version": "3.7.10"
  }
 },
 "nbformat": 4,
 "nbformat_minor": 5
}
