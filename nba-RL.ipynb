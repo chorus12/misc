{
 "cells": [
  {
   "cell_type": "markdown",
   "metadata": {},
   "source": [
    "# Next Best Action Model\n",
    "\n",
    "This is a demo on a strategic next best action model using reinforcement leanring (fitted Q iteration).\n",
    "\n",
    "Adapted for telco usecase by Sergei Gromov and Sergei Bazhin.\n",
    "\n",
    "| Description | D002 (see [descriptions](https://github.com/ikatsov/tensor-house/blob/master/resources/descriptions.md)) |\n",
    "|--|:--|\n",
    "| Dataset | Generated internally, no external dependencies |\n",
    "| Papers | Theocharous2015, Riedmiller2005 (see [papers](https://github.com/ikatsov/tensor-house/blob/master/resources/papers.md)) | \n",
    "| Installation | NA |\n",
    "| Libs | Scikit-learn, Numpy |"
   ]
  },
  {
   "cell_type": "markdown",
   "metadata": {},
   "source": [
    "## Формализация событий/действий/целевых цепочек\n",
    "**События (events - states):**  \n",
    " - 0 - приближение к порогу отключения  \n",
    " - 1 - пересечение порога отключения  \n",
    " - 2 - зачисление платежа  \n",
    " - 3 - списание АП  \n",
    " - 4 - отключение пакета  \n",
    " - 5 - **подключение пакета (событие имеющее награду )**\n",
    " \n",
    "**Действия (offers - actions):**  \n",
    " - 1 - реклама\n",
    " - 2 - маленька скидка\n",
    " - 3 - большая скидка\n",
    " \n",
    "**Целевые цепочки (target sequence) :**\n",
    "- приближение к порогу отключения -> **(a)реклама** -> зачисление платежа -> **(a)большая скидка** -> подключение пакета  \n",
    "- пересечение порога отключения -> **(a)реклама** -> зачисление платежа -> **(a)маленькая скидка** -> подключение пакета  \n",
    "- отключение пакета -> **(a) реклама** -> подключение пакета   "
   ]
  },
  {
   "cell_type": "markdown",
   "metadata": {
    "tags": []
   },
   "source": [
    "## Описание участка траектории\n",
    "Есть 100 временных отрезков, которые разбиваются на 4 участка общей траектории: [0 -(1)- 25 -(2)- 50 -(3)- 75 -(4)- 99].  \n",
    "Состояние формируется для участка траектории и награда так же считается для него.  \n",
    "Действие предпринимается так же на границе двух траекторий - три границы - три действия в арсенале.  \n",
    "\n",
    "``` \n",
    " #  начальное состояние  \n",
    " [кластер абонента   \n",
    "  время последнего события типа 0 - приближение к порогу отключения (100, если не было)\n",
    "  время последнего события типа 1 - пересечение порога отключения\n",
    "  время последнего события типа 2 - зачисление платежа\n",
    "  время последнего события типа 3 - списание АП\n",
    "  время последнего события типа 4 - отключение пакета\n",
    "  время действия 1 (100, если не было)\n",
    "  время действия 2\n",
    "  время действия 3]\n",
    " #  действие-награда\n",
    "  номер предложения/действия, которое мы даем на этом участке траектории (1,2,3)\n",
    "  награда\n",
    " [новое состояние]\n",
    " признак финального участка траектории\n",
    "```"
   ]
  },
  {
   "cell_type": "code",
   "execution_count": 1,
   "metadata": {},
   "outputs": [],
   "source": [
    "import numpy as np\n",
    "import matplotlib.pyplot as plt\n",
    "from matplotlib.patches import Rectangle\n",
    "from sklearn.ensemble import RandomForestRegressor\n",
    "from sklearn.manifold import TSNE\n",
    "\n",
    "# Setting the parameters needed to export figures as PDFs \n",
    "# plt.rcParams.update({'font.size': 14, 'pdf.fonttype': 'truetype', \n",
    "#                     'font.family':'Candara', 'font.serif':['Candara']})"
   ]
  },
  {
   "cell_type": "code",
   "execution_count": 214,
   "metadata": {
    "tags": []
   },
   "outputs": [],
   "source": [
    "#\n",
    "# Auxiliary functions\n",
    "#\n",
    "\n",
    "def softmax(x):\n",
    "    \"\"\"Compute softmax values for each sets of scores in x.\"\"\"\n",
    "    e_x = np.exp(x - np.max(x))\n",
    "    return e_x / e_x.sum(axis=0) # only difference\n",
    "\n",
    "def multinomial_int(p):\n",
    "    '''\n",
    "    p array holds probs that all must sum to 1\n",
    "    we draw one sample from 0..len(p) ints with probs of p\n",
    "    '''\n",
    "    return np.random.choice(list(range(len(p))), p=p)\n",
    "\n",
    "def count(ndarray, val):\n",
    "    return np.count_nonzero(ndarray == val)\n",
    "\n",
    "def index(ndarray, val, default):\n",
    "    try:\n",
    "        return ndarray.tolist().index(val)\n",
    "    except:\n",
    "        return default\n",
    "\n",
    "def find_offer_times(f):\n",
    "    return np.nonzero(f)[0]\n",
    "\n",
    "def offer_seq(f):\n",
    "    # just return array with positive eleme\n",
    "    return f[np.where(f > 0)]\n",
    "\n",
    "def get_p_events(num_events, no_action_p=0.7):\n",
    "    # сделаем массив вероятностей для событий с клиентом\n",
    "    # num_events - число событий\n",
    "    # no_action_p - вероятность события бездействия - самая большая\n",
    "\n",
    "    p_events = np.array([no_action_p] +\\\n",
    "                        list((1-no_action_p)*softmax(np.random.randn(num_events-1)))) # добиваем в остальные события случайные вероятности, чтобы в сумме была 1\n",
    "\n",
    "    # округлим верятности до 2 знаков и восстановим равенство единице суммы\n",
    "    p_events = np.round(p_events, 2)\n",
    "    delta = 1 - sum(p_events)\n",
    "    p_events[0] += delta\n",
    "    assert sum(p_events) == 1.0\n",
    "    return p_events\n",
    "\n",
    "\n",
    "def visualize_profiles(m):\n",
    "    fig, ax = plt.subplots(figsize=(10, 20))\n",
    "    chart = ax.imshow(m, cmap='viridis', interpolation='none')\n",
    "    ax.set_aspect(0.5 * m.shape[1] / m.shape[0])\n",
    "    ax.grid(False)\n",
    "    ax.set_xlabel('Time')\n",
    "    ax.set_ylabel('User ID')\n",
    "    plt.colorbar(chart, fraction=0.025, pad=0.04, ax=ax)\n",
    "    plt.show() "
   ]
  },
  {
   "cell_type": "code",
   "execution_count": 333,
   "metadata": {},
   "outputs": [],
   "source": [
    "#\n",
    "# Environment parameters\n",
    "#\n",
    "# states\n",
    "events = [\n",
    "    0, # бездействие \n",
    "    1, # приближение к порогу отключения\n",
    "    2, # пересечение порога отключения \n",
    "    3, # зачисление платежа\n",
    "    4, # списание АП\n",
    "    5, # отключение пакета  \n",
    "    6  # подключение пакета (событие имеющее награду )\n",
    "]\n",
    "\n",
    "events_dict = {0 : 'бездействие', \n",
    "               1 : 'приближение к порогу отключения',\n",
    "               2 : 'пересечение порога отключения', \n",
    "               3 : 'зачисление платежа',\n",
    "               4 : 'списание АП',\n",
    "               5 : 'отключение пакета',  \n",
    "               6 : 'подключение пакета (событие имеющее награду )'}\n",
    "\n",
    "# actions\n",
    "offers = [\n",
    "    1, # advertisement\n",
    "    2, # small disocunt\n",
    "    3  # large discount\n",
    "]\n",
    "offers_dict = dict([\n",
    "    (1, 'advertisement'),\n",
    "    (2, 'small disocunt'),\n",
    "    (3, 'large discount')])\n",
    "\n",
    "# кластер абонента\n",
    "demogr = [\n",
    "    0,  \n",
    "    1,\n",
    "    2,\n",
    "    3\n",
    "]\n",
    "\n",
    "n = 1000 # users\n",
    "k = 100  # time intervals\n",
    "m = len(offers)    # offers\n",
    "p_offers = [1 / m] * m # probs of offers - uniform"
   ]
  },
  {
   "cell_type": "markdown",
   "metadata": {},
   "source": [
    "## Генерация профилей"
   ]
  },
  {
   "cell_type": "markdown",
   "metadata": {},
   "source": [
    "####  Тестовая генерация\n",
    "она не учитывает целевые цепочки и просто создает события согласно распределению p_events"
   ]
  },
  {
   "cell_type": "code",
   "execution_count": 458,
   "metadata": {},
   "outputs": [
    {
     "data": {
      "image/png": "[encoded data removed]",
      "text/plain": [
       "<Figure size 720x1440 with 2 Axes>"
      ]
     },
     "metadata": {
      "needs_background": "light"
     },
     "output_type": "display_data"
    }
   ],
   "source": [
    "# иногда барахлит округление и надо перезапустить генерацию\n",
    "while True:\n",
    "    try :\n",
    "        p_events = get_p_events(len(events), no_action_p=0.7)\n",
    "        break\n",
    "    except AssertionError:\n",
    "        print(\"rounding error - will try one more time...\")\n",
    "P = np.random.choice(events, size=(n,k), p=p_events)\n",
    "visualize_profiles(P)"
   ]
  },
  {
   "cell_type": "markdown",
   "metadata": {},
   "source": [
    "## Генерация офферов/действий"
   ]
  },
  {
   "cell_type": "code",
   "execution_count": 289,
   "metadata": {},
   "outputs": [
    {
     "data": {
      "text/plain": [
       "(3, 1000, 100)"
      ]
     },
     "execution_count": 289,
     "metadata": {},
     "output_type": "execute_result"
    }
   ],
   "source": [
    "# m, n, k \n",
    "# (3, 1000, 100)\n",
    "# вокруг временых точек t_offers c разборосом в t_offer_jit генерируем с вероятностью p_offers 3 предложения 1, 2 или 3\n",
    "# записываем результат в матрицу F - одной размерости с P"
   ]
  },
  {
   "cell_type": "code",
   "execution_count": 491,
   "metadata": {
    "tags": []
   },
   "outputs": [
    {
     "data": {
      "image/png": "[encoded data removed]",
      "text/plain": [
       "<Figure size 720x1440 with 2 Axes>"
      ]
     },
     "metadata": {
      "needs_background": "light"
     },
     "output_type": "display_data"
    }
   ],
   "source": [
    "t_offers = np.linspace(0, k, m + 2).astype(int).tolist()[1 : -1]    # offer campaing times\n",
    "t_offer_jit = 5                                           # offer time jitter, standard deviation in time units\n",
    "offers_jitter = np.rint(t_offer_jit * np.random.randn(n, len(t_offers))) # deviation from offer times\n",
    "offer_times = (offers_jitter + np.repeat([t_offers], n, axis=0)).astype(int) # time labels at which we make offers\n",
    "offers_sampled = np.random.choice(offers, size=offer_times.shape, p=p_offers) # offers that we make at offer times\n",
    "F = np.zeros_like(P)\n",
    "x_indices = np.array([[i]*offer_times.shape[-1] for i in range(n)]).flatten() # these are just [0,0,0], [1,1,1] ... [999,999,999] flattened\n",
    "F[x_indices, offer_times.flatten()] = offers_sampled.flatten()\n",
    "visualize_profiles(F)"
   ]
  },
  {
   "cell_type": "code",
   "execution_count": 278,
   "metadata": {},
   "outputs": [
    {
     "data": {
      "text/plain": [
       "({0: 'бездействие',\n",
       "  1: 'приближение к порогу отключения',\n",
       "  2: 'пересечение порога отключения',\n",
       "  3: 'зачисление платежа',\n",
       "  4: 'списание АП',\n",
       "  5: 'отключение пакета',\n",
       "  6: 'подключение пакета (событие имеющее награду )'},\n",
       " {1: 'advertisement', 2: 'small disocunt', 3: 'large discount'})"
      ]
     },
     "execution_count": 278,
     "metadata": {},
     "output_type": "execute_result"
    }
   ],
   "source": [
    "events_dict, offers_dict"
   ]
  },
  {
   "cell_type": "markdown",
   "metadata": {},
   "source": [
    "```\n",
    "1->(1)->3->(3)-> +\n",
    "2->(1)->3->(1)-> +\n",
    "5->(1)->(1) + \n",
    "0 : приближение к порогу отключения -> (a)реклама -> зачисление платежа -> (a)большая скидка -> подключение пакета\n",
    "[0.7 , 0.2, 0.02, 0.02, 0.02, 0.02, 0.02] -> [0.7 , 0.02, 0.02, 0.2, 0.02, 0.02, 0.02] -> [0.7 , 0.02, 0.02, 0.02, 0.02, 0.02, 0.2]\n",
    "\n",
    "1 : пересечение порога отключения -> (a)реклама -> зачисление платежа -> (a)маленькая скидка -> подключение пакета\n",
    "[0.7 , 0.02, 0.2, 0.02, 0.02, 0.02, 0.02] (a)реклама -> [0.7 , 0.02, 0.02, 0.2, 0.02, 0.02, 0.02] -> (a)маленькая скидка -> [0.7 , 0.02, 0.02, 0.02, 0.02, 0.02, 0.2] \n",
    "\n",
    "2 : отключение пакета -> (a) реклама ->*any event seq*-> (a)реклама -> подключение пакета\n",
    "[0.7 , 0.02, 0.02, 0.02, 0.02, 0.2, 0.02] -> [0.7 , 0.05, 0.05, 0.05, 0.05, 0.05, 0.05] -> [0.7 , 0.02, 0.02, 0.02, 0.02, 0.02, 0.2]\n",
    "\n",
    "```"
   ]
  },
  {
   "cell_type": "markdown",
   "metadata": {},
   "source": [
    "## Генерация событий "
   ]
  },
  {
   "cell_type": "code",
   "execution_count": 586,
   "metadata": {},
   "outputs": [
    {
     "data": {
      "application/vnd.jupyter.widget-view+json": {
       "model_id": "95b3c22112c54b3290dce2901419d2a1",
       "version_major": 2,
       "version_minor": 0
      },
      "text/plain": [
       "  0%|          | 0/1000 [00:00<?, ?it/s]"
      ]
     },
     "metadata": {},
     "output_type": "display_data"
    },
    {
     "name": "stdout",
     "output_type": "stream",
     "text": [
      "Всего целевых цепочек - 549\n"
     ]
    }
   ],
   "source": [
    "target_events={0:0, 1:0, 2:0} # counter of target chains\n",
    "current_pattern = -1 # target reward pattern id from the memo above\n",
    "\n",
    "pos_1 = 0 # 1st occurence of target action in seq of F offers/actions\n",
    "pos_2 = 0 # 2nd occurence of target action in seq of F offers/actions\n",
    "\n",
    "# loop through offers and identify if it fits the pattern\n",
    "with tqdm(total=n) as pbar:\n",
    "    for i, (t, offer_ids) in enumerate(zip(offer_times, offers_sampled)):\n",
    "        # pattern 0: 1 -> 3\n",
    "        if (offer_ids[0]==1 and offer_ids[1]==3): #1->2\n",
    "            target_events[0] += 1\n",
    "            current_pattern = 0\n",
    "            pos_1, pos_2 = 0,1\n",
    "        elif  (offer_ids[0]==1 and offer_ids[2]==3): #1->3\n",
    "            target_events[0] += 1\n",
    "            current_pattern = 0\n",
    "            pos_1, pos_2 = 0,2\n",
    "        elif offer_ids[1]==1 and offer_ids[2]==3: #2->3\n",
    "            target_events[0] += 1\n",
    "            current_pattern = 0\n",
    "            pos_1, pos_2 = 1,2\n",
    "        # pattern 1: 1 -> 2\n",
    "        elif (offer_ids[0]==1 and offer_ids[1]==2): #1->2\n",
    "            target_events[1] += 1\n",
    "            current_pattern = 1\n",
    "            pos_1, pos_2 = 0,1\n",
    "        elif (offer_ids[0]==1 and offer_ids[2]==2): #1->3\n",
    "            target_events[1] += 1\n",
    "            current_pattern = 1\n",
    "            pos_1, pos_2 = 0,2\n",
    "        elif (offer_ids[1]==1 and offer_ids[2]==2): #2->3\n",
    "            target_events[1] += 1\n",
    "            current_pattern = 1\n",
    "            pos_1, pos_2 = 1,2\n",
    "        # pattern 2: 1 -> 1\n",
    "        elif (offer_ids[0]==1 and offer_ids[1]==1): # 1->2\n",
    "            target_events[2] += 1\n",
    "            current_pattern = 2\n",
    "            pos_1, pos_2 = 0,1\n",
    "        elif (offer_ids[1]==1 and offer_ids[2]==1): # 2->3\n",
    "            target_events[2] += 1\n",
    "            current_pattern = 2\n",
    "            pos_1, pos_2 = 1,2\n",
    "        else:\n",
    "            current_pattern = -1\n",
    "            pos_1, pos_2 = 0, 0\n",
    "\n",
    "        if current_pattern == 0:\n",
    "            p_events = ([0.7 , 0.2 , 0.02, 0.02, 0.02, 0.02, 0.02], # 1 - приближение к порогу отключения \n",
    "                        [0.7 , 0.02, 0.02, 0.2 , 0.02, 0.02, 0.02], # 3 - зачисление платежа \n",
    "                        [0.7 , 0.02, 0.02, 0.02, 0.02, 0.02, 0.2])  # 6 - подключение пакета\n",
    "        elif current_pattern == 1:\n",
    "            p_events = ([0.7 , 0.02, 0.2 , 0.02, 0.02, 0.02, 0.02], # 2 - пересечение порога отключения\n",
    "                        [0.7 , 0.02, 0.02, 0.2 , 0.02, 0.02, 0.02], # 3 - зачисление платежа\n",
    "                        [0.7 , 0.02, 0.02, 0.02, 0.02, 0.02, 0.2] ) # 6 - подключение пакета\n",
    "        elif current_pattern == 2:\n",
    "            p_events = ([0.7 , 0.02, 0.02, 0.02, 0.02, 0.2,  0.02], # 5 - отключение пакета\n",
    "                        [0.7 , 0.06, 0.06, 0.06, 0.06, 0.06, 0.00], # все равновероятно, кроме подключения пакера\n",
    "                        [0.7 , 0.02, 0.02, 0.02, 0.02, 0.02, 0.2]) # 6 - подключение пакета\n",
    "        else:\n",
    "            p_events = ([0.7 , 0.058, 0.058, 0.058, 0.058, 0.058,  0.01], # \n",
    "                        [0.7 , 0.058, 0.058, 0.058, 0.058, 0.058,  0.01], # все равновероятно, кроме подключения пакета\n",
    "                        [0.7 , 0.058, 0.058, 0.058, 0.058, 0.058,  0.01]) # \n",
    "            \n",
    "        # add some noise\n",
    "        if (current_pattern >= 0) and (np.random.randint(0,100) > 90): \n",
    "            p_events = ([0.7 , 0.058, 0.058, 0.058, 0.058, 0.058,  0.01], # \n",
    "            [0.7 , 0.058, 0.058, 0.058, 0.058, 0.058,  0.01], # все равновероятно, кроме подключения пакета\n",
    "            [0.7 , 0.058, 0.058, 0.058, 0.058, 0.058,  0.01]) # \n",
    "            \n",
    "        P[i, 0        : t[pos_1]] = np.random.choice(events, t[pos_1], p=p_events[0])\n",
    "        P[i, t[pos_1] : t[pos_2]] = np.random.choice(events, t[pos_2] - t[pos_1], p=p_events[1])\n",
    "        P[i, t[pos_2] :         ] = np.random.choice(events, k - t[pos_2], p=p_events[2])\n",
    "        \n",
    "        # if (np.random.randint(0, 100) > 90) and (pos_1 >0):\n",
    "        #     break\n",
    "            \n",
    "        pbar.update(1)\n",
    "        \n",
    "print(f\"Всего целевых цепочек - {sum(target_events.values())}\" )"
   ]
  },
  {
   "cell_type": "code",
   "execution_count": 587,
   "metadata": {},
   "outputs": [
    {
     "data": {
      "image/png": "[encoded data removed]",
      "text/plain": [
       "<Figure size 720x1440 with 2 Axes>"
      ]
     },
     "metadata": {
      "needs_background": "light"
     },
     "output_type": "display_data"
    }
   ],
   "source": [
    "visualize_profiles(P)"
   ]
  },
  {
   "cell_type": "code",
   "execution_count": 588,
   "metadata": {},
   "outputs": [],
   "source": [
    "D = np.random.choice(demogr, size=n)"
   ]
  },
  {
   "cell_type": "code",
   "execution_count": 47,
   "metadata": {},
   "outputs": [
    {
     "data": {
      "text/plain": [
       "Counter({0.0: 86268, 1.0: 8085, 2.0: 5647})"
      ]
     },
     "execution_count": 47,
     "metadata": {},
     "output_type": "execute_result"
    }
   ],
   "source": [
    "from collections import Counter\n",
    "Counter(P.flatten()) # number of events"
   ]
  },
  {
   "cell_type": "markdown",
   "metadata": {
    "tags": []
   },
   "source": [
    "### Debug zone"
   ]
  },
  {
   "cell_type": "code",
   "execution_count": 3,
   "metadata": {},
   "outputs": [],
   "source": [
    "p_offers = [1 / m] * m                                    # offer probabilities (behavioral policy)\n",
    "t_offers = np.linspace(0, k, m + 2).tolist()[1 : -1]      # offer campaing times = [25.0, 50.0, 75.0]\n",
    "t_offer_jit = 5                                           # offer time jitter, standard deviation in time units "
   ]
  },
  {
   "cell_type": "code",
   "execution_count": 17,
   "metadata": {},
   "outputs": [],
   "source": [
    "# P = np.zeros((n, k)) # matrix of profile events\n",
    "# F = np.zeros((n, k)) # offer history\n",
    "# D = np.zeros((n, 1)) # demographic features"
   ]
  },
  {
   "cell_type": "code",
   "execution_count": 19,
   "metadata": {},
   "outputs": [],
   "source": [
    "u=0\n",
    "D[u, 0] = np.random.binomial(1, 0.5)\n",
    "\n",
    "# determine m time points to issue offers for customer u\n",
    "offer_times_u = np.rint(t_offer_jit * np.random.randn(len(t_offers)) + t_offers)"
   ]
  },
  {
   "cell_type": "code",
   "execution_count": 25,
   "metadata": {},
   "outputs": [
    {
     "data": {
      "text/plain": [
       "[0.3333333333333333, 0.3333333333333333, 0.3333333333333333]"
      ]
     },
     "execution_count": 25,
     "metadata": {},
     "output_type": "execute_result"
    }
   ],
   "source": [
    "p_offers"
   ]
  },
  {
   "cell_type": "code",
   "execution_count": 53,
   "metadata": {},
   "outputs": [
    {
     "data": {
      "text/plain": [
       "array([0, 2, 0])"
      ]
     },
     "execution_count": 53,
     "metadata": {},
     "output_type": "execute_result"
    }
   ],
   "source": [
    "np.random.multinomial(2, p_offers)"
   ]
  },
  {
   "cell_type": "code",
   "execution_count": 67,
   "metadata": {},
   "outputs": [
    {
     "data": {
      "text/plain": [
       "1"
      ]
     },
     "execution_count": 67,
     "metadata": {},
     "output_type": "execute_result"
    }
   ],
   "source": [
    "multinomial_int(p_offers) + 1 "
   ]
  },
  {
   "cell_type": "code",
   "execution_count": 64,
   "metadata": {},
   "outputs": [
    {
     "data": {
      "text/plain": [
       "[0.3333333333333333, 0.3333333333333333, 0.3333333333333333]"
      ]
     },
     "execution_count": 64,
     "metadata": {},
     "output_type": "execute_result"
    }
   ],
   "source": [
    "[1 / m] * m "
   ]
  },
  {
   "cell_type": "code",
   "execution_count": 31,
   "metadata": {},
   "outputs": [
    {
     "data": {
      "text/plain": [
       "3.0"
      ]
     },
     "execution_count": 31,
     "metadata": {},
     "output_type": "execute_result"
    }
   ],
   "source": [
    "F.max()"
   ]
  },
  {
   "cell_type": "code",
   "execution_count": 4,
   "metadata": {},
   "outputs": [
    {
     "data": {
      "text/plain": [
       "(1000, 100)"
      ]
     },
     "execution_count": 4,
     "metadata": {},
     "output_type": "execute_result"
    }
   ],
   "source": [
    "P.shape"
   ]
  },
  {
   "cell_type": "code",
   "execution_count": 6,
   "metadata": {},
   "outputs": [
    {
     "data": {
      "text/plain": [
       "array([0., 0., 0., 0., 0., 0., 0., 0., 0., 0., 0., 0., 0., 0., 0., 0., 0.,\n",
       "       0., 0., 0., 0., 0., 2., 0., 0., 0., 0., 0., 0., 0., 0., 0., 0., 0.,\n",
       "       0., 0., 0., 0., 0., 0., 0., 0., 0., 0., 0., 0., 0., 0., 0., 0., 0.,\n",
       "       0., 0., 1., 0., 0., 0., 0., 0., 0., 0., 0., 0., 0., 0., 0., 0., 0.,\n",
       "       0., 0., 0., 0., 0., 0., 0., 0., 0., 0., 0., 3., 0., 0., 0., 0., 0.,\n",
       "       0., 0., 0., 0., 0., 0., 0., 0., 0., 0., 0., 0., 0., 0., 0.])"
      ]
     },
     "execution_count": 6,
     "metadata": {},
     "output_type": "execute_result"
    }
   ],
   "source": [
    "F[45]"
   ]
  },
  {
   "cell_type": "code",
   "execution_count": 7,
   "metadata": {},
   "outputs": [
    {
     "data": {
      "text/plain": [
       "array([0., 0., 0., 0., 0., 2., 0., 0., 0., 0., 0., 0., 0., 0., 0., 0., 0.,\n",
       "       0., 2., 1., 0., 0., 0., 0., 0., 0., 0., 0., 0., 0., 0., 0., 0., 1.,\n",
       "       0., 1., 0., 0., 0., 0., 0., 0., 0., 0., 0., 0., 0., 0., 0., 0., 0.,\n",
       "       0., 1., 0., 0., 0., 0., 0., 0., 0., 0., 0., 0., 0., 0., 0., 0., 0.,\n",
       "       1., 0., 0., 0., 0., 0., 0., 2., 0., 0., 0., 0., 0., 0., 0., 2., 1.,\n",
       "       0., 1., 0., 0., 2., 0., 2., 0., 0., 0., 0., 0., 0., 2., 0.])"
      ]
     },
     "execution_count": 7,
     "metadata": {},
     "output_type": "execute_result"
    }
   ],
   "source": [
    "P[45]"
   ]
  },
  {
   "cell_type": "markdown",
   "metadata": {},
   "source": [
    "### Code condinue - cut the data into trajectories\n",
    "\n",
    "![trajectories](i09-transition-cutting.png)"
   ]
  },
  {
   "cell_type": "code",
   "execution_count": 8,
   "metadata": {},
   "outputs": [
    {
     "name": "stderr",
     "output_type": "stream",
     "text": [
      "/tmp/ipykernel_1255/3762033957.py:48: VisibleDeprecationWarning: Creating an ndarray from ragged nested sequences (which is a list-or-tuple of lists-or-tuples-or ndarrays with different lengths or shapes) is deprecated. If you meant to do this, you must specify 'dtype=object' when creating the ndarray.\n",
      "  return np.array(T)\n"
     ]
    }
   ],
   "source": [
    "#\n",
    "# Cut trajectories into transitions\n",
    "#\n",
    "def state_features(p, f, d, t_start, t_end):\n",
    "    p_frame = p[0:t_end]\n",
    "    f_frame = f[0:t_end]\n",
    "    f1 = index(f_frame, 1, k)  \n",
    "    f2 = index(f_frame, 2, k)\n",
    "    f3 = index(f_frame, 3, k)\n",
    "    return np.array([\n",
    "        d[0],                  # demographic features\n",
    "        count(p_frame, 1),     # number of visits\n",
    "        f1,                    # first time offer 1 was issued\n",
    "        f2,                    # first time offer 2 was issued\n",
    "        f3                     # first time offer 3 was issued\n",
    "    ])\n",
    "\n",
    "def frame_reward(p, t_start, t_end):\n",
    "    return count(p[t_start:t_end], 2)   # number of purchases in the time frame\n",
    "\n",
    "def offer_time_ranges(times):\n",
    "    rng = [-1] + times + [k]\n",
    "    return list(zip(map(lambda x: x + 1, rng), rng[1:]))\n",
    "    \n",
    "def prepare_trajectories(P, F, D):\n",
    "    T = []\n",
    "    for u in range(0, n):\n",
    "        offer_times = find_offer_times(F[u]).tolist()\n",
    "        ranges = offer_time_ranges(offer_times)\n",
    "        \n",
    "        T_u = []\n",
    "        for r in range(0, len(ranges)):\n",
    "            (t_start, t_end) = ranges[r]\n",
    "            state = state_features(P[u], F[u], D[u], 0, t_start)\n",
    "            reward = frame_reward(P[u], t_start, t_end)\n",
    "            state_new = state_features(P[u], F[u], D[u], t_start, min(t_end + 1, k))\n",
    "            is_end_of_trajectory = t_end >= k\n",
    "            \n",
    "            if(t_end in offer_times): \n",
    "                action = F[u, t_end]\n",
    "            else:\n",
    "                action = 1 # default action\n",
    "                \n",
    "            T_u.append([state, action, reward, state_new, is_end_of_trajectory])\n",
    "            \n",
    "        T.append(T_u) \n",
    "        \n",
    "    return np.array(T)\n",
    "\n",
    "T = prepare_trajectories(P, F, D)\n",
    "Tt = prepare_trajectories(Pt, Ft, Dt)"
   ]
  },
  {
   "cell_type": "code",
   "execution_count": 10,
   "metadata": {},
   "outputs": [
    {
     "data": {
      "text/plain": [
       "array([array([  0.,   0., 100., 100., 100.]), 3.0, 0,\n",
       "       array([  0.,   2., 100., 100.,  21.]), False], dtype=object)"
      ]
     },
     "execution_count": 10,
     "metadata": {},
     "output_type": "execute_result"
    }
   ],
   "source": [
    "# demographic features\n",
    "# number of visits\n",
    "# first time offer 1 was issued\n",
    "# first time offer 2 was issued\n",
    "# first time offer 3 was issued\n",
    "\n",
    "T[0][0] # первая часть траектории по нулевому пользователю; общая структура элемента траектории : state, action, reward, state_new, is_end_of_trajectory"
   ]
  },
  {
   "cell_type": "code",
   "execution_count": 61,
   "metadata": {},
   "outputs": [
    {
     "data": {
      "text/plain": [
       "4"
      ]
     },
     "execution_count": 61,
     "metadata": {},
     "output_type": "execute_result"
    }
   ],
   "source": [
    "len(T[0])"
   ]
  },
  {
   "cell_type": "code",
   "execution_count": 17,
   "metadata": {},
   "outputs": [
    {
     "data": {
      "text/plain": [
       "array([0., 0., 0., 0., 0., 0., 0., 0., 0., 1., 0., 1., 0., 0., 0., 0., 0.,\n",
       "       0., 0., 0., 0., 2., 0., 0., 0.])"
      ]
     },
     "execution_count": 17,
     "metadata": {},
     "output_type": "execute_result"
    }
   ],
   "source": [
    "P[0][:25]"
   ]
  },
  {
   "cell_type": "code",
   "execution_count": 18,
   "metadata": {},
   "outputs": [
    {
     "data": {
      "text/plain": [
       "array([[array([  0.,   0., 100., 100., 100.]), 3.0, 0,\n",
       "        array([  0.,   2., 100., 100.,  21.]), False],\n",
       "       [array([  0.,   2., 100., 100.,  21.]), 3.0, 1,\n",
       "        array([  0.,   4., 100., 100.,  21.]), False],\n",
       "       [array([  0.,   4., 100., 100.,  21.]), 3.0, 2,\n",
       "        array([  0.,   5., 100., 100.,  21.]), False],\n",
       "       [array([  0.,   5., 100., 100.,  21.]), 1, 0,\n",
       "        array([  0.,   7., 100., 100.,  21.]), True]], dtype=object)"
      ]
     },
     "execution_count": 18,
     "metadata": {},
     "output_type": "execute_result"
    }
   ],
   "source": [
    "T[0]"
   ]
  },
  {
   "cell_type": "markdown",
   "metadata": {},
   "source": [
    "## Policy Learning"
   ]
  },
  {
   "cell_type": "markdown",
   "metadata": {
    "tags": []
   },
   "source": [
    "### Debug zone"
   ]
  },
  {
   "cell_type": "code",
   "execution_count": 71,
   "metadata": {},
   "outputs": [
    {
     "data": {
      "text/plain": [
       "(1000, 3)"
      ]
     },
     "execution_count": 71,
     "metadata": {},
     "output_type": "execute_result"
    }
   ],
   "source": [
    "n,m"
   ]
  },
  {
   "cell_type": "code",
   "execution_count": 70,
   "metadata": {},
   "outputs": [
    {
     "data": {
      "text/plain": [
       "(1000, 1, 5)"
      ]
     },
     "execution_count": 70,
     "metadata": {},
     "output_type": "execute_result"
    }
   ],
   "source": [
    "T.shape"
   ]
  },
  {
   "cell_type": "code",
   "execution_count": 80,
   "metadata": {},
   "outputs": [
    {
     "data": {
      "text/plain": [
       "array([  0.,   0., 100., 100., 100.])"
      ]
     },
     "execution_count": 80,
     "metadata": {},
     "output_type": "execute_result"
    }
   ],
   "source": [
    "T[0][0][0]"
   ]
  },
  {
   "cell_type": "code",
   "execution_count": 84,
   "metadata": {},
   "outputs": [
    {
     "data": {
      "text/plain": [
       "(array([  0.,   0., 100., 100., 100.]),\n",
       " 1,\n",
       " 0,\n",
       " array([  0.,   0., 100., 100., 100.]),\n",
       " True)"
      ]
     },
     "execution_count": 84,
     "metadata": {},
     "output_type": "execute_result"
    }
   ],
   "source": [
    "state, action, reward, state_new, is_end_of_trajectory"
   ]
  },
  {
   "cell_type": "code",
   "execution_count": 87,
   "metadata": {},
   "outputs": [
    {
     "data": {
      "text/plain": [
       "(1000, 1000)"
      ]
     },
     "execution_count": 87,
     "metadata": {},
     "output_type": "execute_result"
    }
   ],
   "source": [
    "len(X), len(Y)"
   ]
  },
  {
   "cell_type": "markdown",
   "metadata": {},
   "source": [
    "### Code continue"
   ]
  },
  {
   "cell_type": "code",
   "execution_count": 9,
   "metadata": {},
   "outputs": [
    {
     "data": {
      "text/plain": [
       "1000"
      ]
     },
     "execution_count": 9,
     "metadata": {},
     "output_type": "execute_result"
    }
   ],
   "source": [
    "len(T)"
   ]
  },
  {
   "cell_type": "code",
   "execution_count": 14,
   "metadata": {},
   "outputs": [
    {
     "data": {
      "text/plain": [
       "1000"
      ]
     },
     "execution_count": 14,
     "metadata": {},
     "output_type": "execute_result"
    }
   ],
   "source": [
    "n"
   ]
  },
  {
   "cell_type": "code",
   "execution_count": 25,
   "metadata": {},
   "outputs": [
    {
     "data": {
      "text/plain": [
       "list"
      ]
     },
     "execution_count": 25,
     "metadata": {},
     "output_type": "execute_result"
    }
   ],
   "source": [
    "type(T[0])"
   ]
  },
  {
   "cell_type": "code",
   "execution_count": 23,
   "metadata": {},
   "outputs": [],
   "source": [
    "for i in range(0,4):\n",
    "    for item in T:\n",
    "        sample=item[i]"
   ]
  },
  {
   "cell_type": "code",
   "execution_count": 24,
   "metadata": {},
   "outputs": [
    {
     "data": {
      "text/plain": [
       "array([array([  0.,   5., 100.,  23., 100.]), 1, 1,\n",
       "       array([  0.,   7., 100.,  23., 100.]), True], dtype=object)"
      ]
     },
     "execution_count": 24,
     "metadata": {},
     "output_type": "execute_result"
    }
   ],
   "source": [
    "sample"
   ]
  },
  {
   "cell_type": "code",
   "execution_count": 25,
   "metadata": {},
   "outputs": [
    {
     "data": {
      "text/plain": [
       "array([array([  0.,   5., 100.,  23., 100.]), 1, 1,\n",
       "       array([  0.,   7., 100.,  23., 100.]), True], dtype=object)"
      ]
     },
     "execution_count": 25,
     "metadata": {},
     "output_type": "execute_result"
    }
   ],
   "source": [
    "T[-1][-1]"
   ]
  },
  {
   "cell_type": "code",
   "execution_count": 33,
   "metadata": {},
   "outputs": [
    {
     "data": {
      "application/vnd.jupyter.widget-view+json": {
       "model_id": "ba1417d0a3a4401585abe76d9c220033",
       "version_major": 2,
       "version_minor": 0
      },
      "text/plain": [
       "  0%|          | 0/4 [00:00<?, ?it/s]"
      ]
     },
     "metadata": {},
     "output_type": "display_data"
    },
    {
     "name": "stderr",
     "output_type": "stream",
     "text": [
      "/opt/conda/envs/rapids/lib/python3.8/site-packages/sklearn/ensemble/_forest.py:560: UserWarning: Some inputs do not have OOB scores. This probably means too few trees were used to compute any reliable OOB estimates.\n",
      "  warn(\n"
     ]
    },
    {
     "data": {
      "application/vnd.jupyter.widget-view+json": {
       "model_id": "5013597eef1e4429a1f1489c60210439",
       "version_major": 2,
       "version_minor": 0
      },
      "text/plain": [
       "  0%|          | 0/4 [00:00<?, ?it/s]"
      ]
     },
     "metadata": {},
     "output_type": "display_data"
    },
    {
     "name": "stderr",
     "output_type": "stream",
     "text": [
      "/opt/conda/envs/rapids/lib/python3.8/site-packages/sklearn/ensemble/_forest.py:560: UserWarning: Some inputs do not have OOB scores. This probably means too few trees were used to compute any reliable OOB estimates.\n",
      "  warn(\n"
     ]
    },
    {
     "data": {
      "application/vnd.jupyter.widget-view+json": {
       "model_id": "701b068a61ec496c993d7adbe165b9e9",
       "version_major": 2,
       "version_minor": 0
      },
      "text/plain": [
       "  0%|          | 0/4 [00:00<?, ?it/s]"
      ]
     },
     "metadata": {},
     "output_type": "display_data"
    },
    {
     "name": "stderr",
     "output_type": "stream",
     "text": [
      "/opt/conda/envs/rapids/lib/python3.8/site-packages/sklearn/ensemble/_forest.py:560: UserWarning: Some inputs do not have OOB scores. This probably means too few trees were used to compute any reliable OOB estimates.\n",
      "  warn(\n"
     ]
    },
    {
     "data": {
      "application/vnd.jupyter.widget-view+json": {
       "model_id": "6fabc8b75c3945059f760234cf93b905",
       "version_major": 2,
       "version_minor": 0
      },
      "text/plain": [
       "  0%|          | 0/4 [00:00<?, ?it/s]"
      ]
     },
     "metadata": {},
     "output_type": "display_data"
    },
    {
     "name": "stderr",
     "output_type": "stream",
     "text": [
      "/opt/conda/envs/rapids/lib/python3.8/site-packages/sklearn/ensemble/_forest.py:560: UserWarning: Some inputs do not have OOB scores. This probably means too few trees were used to compute any reliable OOB estimates.\n",
      "  warn(\n"
     ]
    }
   ],
   "source": [
    "from tqdm.notebook import tqdm\n",
    "#\n",
    "# Find the optimal action under a greedy policy and corresponding state value\n",
    "#\n",
    "def best_action(Q, state, actions):\n",
    "    v_best = 0\n",
    "    a_best = 0\n",
    "    for a in actions:\n",
    "        v = Q([np.append(state, a)])[0]\n",
    "        if(v > v_best):\n",
    "            v_best = v\n",
    "            a_best = a\n",
    "            \n",
    "    return a_best, v_best\n",
    "\n",
    "def Q_0(sa):\n",
    "    return [1]\n",
    "\n",
    "Q = Q_0\n",
    "score = []\n",
    "for i in range(1, 5): # FQI iterations\n",
    "    X = []\n",
    "    Y = []\n",
    "    for i in tqdm(range(0,4)):\n",
    "        for item in T:\n",
    "            sample=item[i]\n",
    "            state, action, reward, state_new, is_end_of_trajectory = sample\n",
    "            x = np.append(state, action) # feature vector consists of state-action pairs\n",
    "\n",
    "            a_best, v_best = best_action(Q, state_new, offers)\n",
    "\n",
    "            y = reward + v_best    # we ignore the initial conditions (ends of trajectories) for the sake of illustration      \n",
    "\n",
    "            X.append(x)\n",
    "            Y.append(y)\n",
    "    \n",
    "    regr = RandomForestRegressor(max_depth=4, random_state=0, n_estimators=10, oob_score=True)\n",
    "    regr.fit(X, Y)   \n",
    "    score.append(regr.oob_score_)\n",
    "    Q = regr.predict"
   ]
  },
  {
   "cell_type": "code",
   "execution_count": 34,
   "metadata": {},
   "outputs": [
    {
     "data": {
      "text/plain": [
       "4"
      ]
     },
     "execution_count": 34,
     "metadata": {},
     "output_type": "execute_result"
    }
   ],
   "source": [
    "len(score)"
   ]
  },
  {
   "cell_type": "code",
   "execution_count": 35,
   "metadata": {},
   "outputs": [
    {
     "data": {
      "text/plain": [
       "[0.4352593380195454, 0.7517597022480891, 0.820727845193426, 0.8584319142079472]"
      ]
     },
     "execution_count": 35,
     "metadata": {},
     "output_type": "execute_result"
    }
   ],
   "source": [
    "score"
   ]
  },
  {
   "cell_type": "code",
   "execution_count": 59,
   "metadata": {},
   "outputs": [
    {
     "data": {
      "text/plain": [
       "array([  0.,   0., 100., 100., 100.,   2.])"
      ]
     },
     "execution_count": 59,
     "metadata": {},
     "output_type": "execute_result"
    }
   ],
   "source": [
    "X[123]"
   ]
  },
  {
   "cell_type": "code",
   "execution_count": 27,
   "metadata": {},
   "outputs": [
    {
     "name": "stdout",
     "output_type": "stream",
     "text": [
      "[13.55230739]\n",
      "[6.26474602]\n",
      "[5.96279435]\n",
      "[13.52702846]\n",
      "[13.52702846]\n",
      "[17.90256729]\n"
     ]
    }
   ],
   "source": [
    "# demographic features\n",
    "# number of visits\n",
    "# first time offer 1 was issued\n",
    "# first time offer 2 was issued\n",
    "# first time offer 3 was issued\n",
    "\n",
    "# Values of possible actions for a user who did not get any offer yet  \n",
    "print(Q([[0, 0, 100, 100, 100, 1]]))\n",
    "print(Q([[0, 0, 100, 100, 100, 2]]))\n",
    "print(Q([[0, 0, 100, 100, 100, 3]]))\n",
    "\n",
    "# Values of possible actions for a user who got offer #1 at time step 20  \n",
    "print(Q([[0, 0, 20, 100, 100, 1]]))\n",
    "print(Q([[0, 0, 20, 100, 100, 2]]))\n",
    "print(Q([[0, 0, 20, 100, 100, 3]]))"
   ]
  },
  {
   "cell_type": "code",
   "execution_count": 164,
   "metadata": {},
   "outputs": [
    {
     "name": "stdout",
     "output_type": "stream",
     "text": [
      "[13.61321886]\n",
      "[5.82460587]\n",
      "[5.82460587]\n",
      "[13.93350275]\n",
      "[13.93350275]\n",
      "[18.20843831]\n"
     ]
    }
   ],
   "source": [
    "# Values of possible actions for a user who did not get any offer yet  \n",
    "print(Q([[0, 0, 100, 100, 100, 1]]))\n",
    "print(Q([[0, 0, 100, 100, 100, 2]]))\n",
    "print(Q([[0, 0, 100, 100, 100, 3]]))\n",
    "\n",
    "# Values of possible actions for a user who got offer #1 at time step 20  \n",
    "print(Q([[0, 0, 20, 100, 100, 1]]))\n",
    "print(Q([[0, 0, 20, 100, 100, 2]]))\n",
    "print(Q([[0, 0, 20, 100, 100, 3]]))"
   ]
  },
  {
   "cell_type": "code",
   "execution_count": 165,
   "metadata": {},
   "outputs": [],
   "source": [
    "#\n",
    "# Use the test set to evaluate the policy\n",
    "#\n",
    "states = Tt[:, :, 0].flatten().tolist()\n",
    "\n",
    "values = []\n",
    "best_actions = []\n",
    "for s in states:\n",
    "    a_best, v_best = best_action(Q, s, offers)\n",
    "    values.append(v_best)\n",
    "    best_actions.append(a_best)\n",
    "    \n",
    "s_tsne = TSNE(learning_rate = 100).fit_transform(states)"
   ]
  },
  {
   "cell_type": "code",
   "execution_count": 172,
   "metadata": {},
   "outputs": [
    {
     "data": {
      "image/png": "[encoded data removed]",
      "text/plain": [
       "<Figure size 1008x432 with 4 Axes>"
      ]
     },
     "metadata": {},
     "output_type": "display_data"
    },
    {
     "name": "stdout",
     "output_type": "stream",
     "text": [
      "Segment ((-55, -45), (-30, -20)):\n",
      " [[100.  29.  48.]\n",
      " [100.  29.  48.]\n",
      " [100.  26.  51.]\n",
      " [100.  26.  51.]\n",
      " [100.  38.  52.]]\n",
      "Segment ((45, 55), (-30, -20)):\n",
      " [[ 20. 100. 100.]\n",
      " [ 20. 100. 100.]\n",
      " [ 20. 100. 100.]\n",
      " [ 21. 100. 100.]\n",
      " [ 20. 100. 100.]]\n",
      "Segment ((-20, -10), (-65, -55)):\n",
      " [[ 31.  54. 100.]\n",
      " [ 31.  54. 100.]\n",
      " [ 28.  52. 100.]\n",
      " [ 20.  43. 100.]\n",
      " [ 20.  43. 100.]]\n",
      "Segment ((0, 10), (45, 55)):\n",
      " [[100. 100.  25.]\n",
      " [100. 100.  25.]\n",
      " [100. 100.  25.]\n",
      " [100. 100.  26.]\n",
      " [100. 100.  26.]]\n",
      "Segment ((5, 15), (-50, -40)):\n",
      " [[ 27. 100.  54.]\n",
      " [ 27. 100.  54.]\n",
      " [ 21. 100.  42.]\n",
      " [ 21. 100.  42.]\n",
      " [ 14. 100.  49.]]\n"
     ]
    }
   ],
   "source": [
    "#\n",
    "# Visualuze the Q-values and best action for individual users\n",
    "#\n",
    "\n",
    "#\n",
    "# Segment boxes need to be set manually because the tSNE\n",
    "# projection changes unpredictabley as the data changes  \n",
    "#\n",
    "segments = [\n",
    "    ( (-55, -45), (-30, -20) ),\n",
    "    ( (45, 55),   (-30, -20) ),\n",
    "    ( (-20, -10), (-65, -55) ),\n",
    "    ( (0, 10),    (45, 55) ),\n",
    "    ( (5, 15),    (-50, -40) )\n",
    "]\n",
    "\n",
    "fig, ax = plt.subplots(1, 2, figsize=(14, 6))\n",
    "scatter = ax[0].scatter(s_tsne[:, 0], s_tsne[:, 1], c=values, cmap='viridis')\n",
    "plt.colorbar(mappable=scatter, ax=ax[0])\n",
    "for s in segments:\n",
    "    rect = Rectangle((s[0][0], s[1][0]), s[0][1] - s[0][0], s[1][1] - s[1][0], linewidth=1, edgecolor='r', facecolor='none')\n",
    "    ax[0].add_patch(rect)\n",
    "\n",
    "\n",
    "scatter = ax[1].scatter(s_tsne[:, 0], s_tsne[:, 1], c=best_actions, cmap='viridis')\n",
    "plt.colorbar(mappable=scatter, ax=ax[1])\n",
    "plt.tight_layout()\n",
    "plt.show()\n",
    "\n",
    "\n",
    "for s in segments:\n",
    "    segment = ((s_tsne[:, 0] > s[0][0]) & (s_tsne[:, 0] < s[0][1]) & (s_tsne[:, 1] > s[1][0]) & (s_tsne[:, 1] < s[1][1]))\n",
    "    print(f'Segment {s}:\\n', np.array(states)[segment, 2:][:5])"
   ]
  },
  {
   "cell_type": "markdown",
   "metadata": {},
   "source": [
    "# Policy Evaluation"
   ]
  },
  {
   "cell_type": "markdown",
   "metadata": {},
   "source": [
    "FQI provides a way to learn the Q function and derive some policy (e.g. epsilon-greedy) from it. \n",
    "If we change the policy, we need to evaluate its performance. It can be done using historical trajectories."
   ]
  },
  {
   "cell_type": "code",
   "execution_count": 173,
   "metadata": {},
   "outputs": [],
   "source": [
    "def make_epsilon_greedy_policy(Q, eps):\n",
    "    def egreedy_policy(state, action):\n",
    "        a_best, v_best = best_action(Q, state, offers)\n",
    "\n",
    "        if(a_best == action):\n",
    "            return 1 - eps\n",
    "        else:\n",
    "            return eps / (m - 1)\n",
    "        \n",
    "    return egreedy_policy\n",
    "\n",
    "\n",
    "# Probability of action given state\n",
    "def behavioral_policy(state, action):\n",
    "    return 1 / m\n",
    "\n",
    "# Estimates the target policy return based on \n",
    "# the profiles (trajectories) P generated under the behavioral policy \n",
    "def evaluate_policy_return(T, behavioral_policy, target_policy):\n",
    "    returns = []\n",
    "    for trajectory in T:                                                   \n",
    "        importance_weight = 1\n",
    "        trajectory_reward = 0\n",
    "        for transition in trajectory:            \n",
    "            state, action, reward  = transition[0:3]\n",
    "            action_prob_b = behavioral_policy(state, action)\n",
    "            action_prob_t = target_policy(state, action)\n",
    "            \n",
    "            importance_weight *= (action_prob_t / action_prob_b) \n",
    "            trajectory_reward += reward\n",
    "            \n",
    "        returns.append(trajectory_reward * importance_weight)\n",
    "        \n",
    "    return np.mean(returns)   "
   ]
  },
  {
   "cell_type": "code",
   "execution_count": 174,
   "metadata": {},
   "outputs": [],
   "source": [
    "policy_returns = []\n",
    "eps = np.linspace(0, 2/3, num = 10)\n",
    "for e in eps:\n",
    "    policy = make_epsilon_greedy_policy(Q, e)\n",
    "    policy_returns.append( evaluate_policy_return(T, behavioral_policy, policy) )"
   ]
  },
  {
   "cell_type": "code",
   "execution_count": 137,
   "metadata": {},
   "outputs": [
    {
     "data": {
      "image/png": "[encoded data removed]",
      "text/plain": [
       "<Figure size 432x288 with 1 Axes>"
      ]
     },
     "metadata": {},
     "output_type": "display_data"
    }
   ],
   "source": [
    "plt.style.use('seaborn-white')\n",
    "plt.grid(True)\n",
    "plt.xlabel('Epsilon')\n",
    "plt.ylabel('Return')\n",
    "plt.plot(eps, policy_returns, '-o', mfc='w')\n",
    "plt.show()"
   ]
  }
 ],
 "metadata": {
  "kernelspec": {
   "display_name": "Python 3 (ipykernel)",
   "language": "python",
   "name": "python3"
  },
  "language_info": {
   "codemirror_mode": {
    "name": "ipython",
    "version": 3
   },
   "file_extension": ".py",
   "mimetype": "text/x-python",
   "name": "python",
   "nbconvert_exporter": "python",
   "pygments_lexer": "ipython3",
   "version": "3.8.12"
  }
 },
 "nbformat": 4,
 "nbformat_minor": 4
}
